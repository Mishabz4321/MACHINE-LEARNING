{
  "nbformat": 4,
  "nbformat_minor": 0,
  "metadata": {
    "kernelspec": {
      "display_name": "Python 3",
      "language": "python",
      "name": "python3"
    },
    "language_info": {
      "codemirror_mode": {
        "name": "ipython",
        "version": 3
      },
      "file_extension": ".py",
      "mimetype": "text/x-python",
      "name": "python",
      "nbconvert_exporter": "python",
      "pygments_lexer": "ipython3",
      "version": "3.7.4"
    },
    "colab": {
      "name": "sales forecasting using LGB.ipynb",
      "provenance": [],
      "include_colab_link": true
    }
  },
  "cells": [
    {
      "cell_type": "markdown",
      "metadata": {
        "id": "view-in-github",
        "colab_type": "text"
      },
      "source": [
        "<a href=\"https://colab.research.google.com/github/Mishabz4321/MACHINE-LEARNING/blob/main/sales_forecasting_using_LGB.ipynb\" target=\"_parent\"><img src=\"https://colab.research.google.com/assets/colab-badge.svg\" alt=\"Open In Colab\"/></a>"
      ]
    },
    {
      "cell_type": "code",
      "metadata": {
        "id": "cPFFHIayuck4"
      },
      "source": [
        "#import dependencies\n",
        "\n",
        "import warnings \n",
        "warnings.filterwarnings('ignore')\n",
        "\n",
        "#Basic packages\n",
        "import os\n",
        "import pandas as pd\n",
        "import numpy as np\n",
        "import datetime\n",
        "\n",
        "# Visualization\n",
        "import matplotlib.pyplot as plt\n",
        "import seaborn as sns\n",
        "\n",
        "\n",
        "# Time Series\n",
        "from statsmodels.tsa.arima_model import ARIMA\n",
        "from statsmodels.tsa.statespace.sarimax import SARIMAX\n",
        "from pandas.plotting import autocorrelation_plot\n",
        "from statsmodels.tsa.stattools import adfuller, acf, pacf,arma_order_select_ic\n",
        "import statsmodels.formula.api as smf\n",
        "import statsmodels.tsa.api as smt\n",
        "import statsmodels.api as sm\n",
        "import scipy.stats as scs"
      ],
      "execution_count": null,
      "outputs": []
    },
    {
      "cell_type": "code",
      "metadata": {
        "colab": {
          "base_uri": "https://localhost:8080/"
        },
        "id": "WVnG2CYSumLc",
        "outputId": "3af276ac-83ac-4597-8158-e8438b766dfa"
      },
      "source": [
        "from google.colab import drive\n",
        "drive.mount('/content/drive')"
      ],
      "execution_count": null,
      "outputs": [
        {
          "output_type": "stream",
          "text": [
            "Drive already mounted at /content/drive; to attempt to forcibly remount, call drive.mount(\"/content/drive\", force_remount=True).\n"
          ],
          "name": "stdout"
        }
      ]
    },
    {
      "cell_type": "code",
      "metadata": {
        "colab": {
          "base_uri": "https://localhost:8080/",
          "height": 204
        },
        "id": "LtDA5f-tuclA",
        "outputId": "fb2b00ef-676b-4ba2-dea2-a324468d0664"
      },
      "source": [
        "train= pd.read_csv('/content/drive/MyDrive/Colab Notebooks/train.csv',parse_dates=['date'])\n",
        "test= pd.read_csv('/content/drive/MyDrive/Colab Notebooks/test.csv',parse_dates=['date'])\n",
        "train.head()"
      ],
      "execution_count": null,
      "outputs": [
        {
          "output_type": "execute_result",
          "data": {
            "text/html": [
              "<div>\n",
              "<style scoped>\n",
              "    .dataframe tbody tr th:only-of-type {\n",
              "        vertical-align: middle;\n",
              "    }\n",
              "\n",
              "    .dataframe tbody tr th {\n",
              "        vertical-align: top;\n",
              "    }\n",
              "\n",
              "    .dataframe thead th {\n",
              "        text-align: right;\n",
              "    }\n",
              "</style>\n",
              "<table border=\"1\" class=\"dataframe\">\n",
              "  <thead>\n",
              "    <tr style=\"text-align: right;\">\n",
              "      <th></th>\n",
              "      <th>date</th>\n",
              "      <th>store</th>\n",
              "      <th>item</th>\n",
              "      <th>sales</th>\n",
              "    </tr>\n",
              "  </thead>\n",
              "  <tbody>\n",
              "    <tr>\n",
              "      <th>0</th>\n",
              "      <td>2013-01-01</td>\n",
              "      <td>1</td>\n",
              "      <td>1</td>\n",
              "      <td>13</td>\n",
              "    </tr>\n",
              "    <tr>\n",
              "      <th>1</th>\n",
              "      <td>2013-01-02</td>\n",
              "      <td>1</td>\n",
              "      <td>1</td>\n",
              "      <td>11</td>\n",
              "    </tr>\n",
              "    <tr>\n",
              "      <th>2</th>\n",
              "      <td>2013-01-03</td>\n",
              "      <td>1</td>\n",
              "      <td>1</td>\n",
              "      <td>14</td>\n",
              "    </tr>\n",
              "    <tr>\n",
              "      <th>3</th>\n",
              "      <td>2013-01-04</td>\n",
              "      <td>1</td>\n",
              "      <td>1</td>\n",
              "      <td>13</td>\n",
              "    </tr>\n",
              "    <tr>\n",
              "      <th>4</th>\n",
              "      <td>2013-01-05</td>\n",
              "      <td>1</td>\n",
              "      <td>1</td>\n",
              "      <td>10</td>\n",
              "    </tr>\n",
              "  </tbody>\n",
              "</table>\n",
              "</div>"
            ],
            "text/plain": [
              "        date  store  item  sales\n",
              "0 2013-01-01      1     1     13\n",
              "1 2013-01-02      1     1     11\n",
              "2 2013-01-03      1     1     14\n",
              "3 2013-01-04      1     1     13\n",
              "4 2013-01-05      1     1     10"
            ]
          },
          "metadata": {
            "tags": []
          },
          "execution_count": 74
        }
      ]
    },
    {
      "cell_type": "code",
      "metadata": {
        "colab": {
          "base_uri": "https://localhost:8080/",
          "height": 204
        },
        "id": "Ypu0GHakuclC",
        "outputId": "cef59c64-43cf-42ad-e57d-5067ae56e6bf"
      },
      "source": [
        "train.tail()"
      ],
      "execution_count": null,
      "outputs": [
        {
          "output_type": "execute_result",
          "data": {
            "text/html": [
              "<div>\n",
              "<style scoped>\n",
              "    .dataframe tbody tr th:only-of-type {\n",
              "        vertical-align: middle;\n",
              "    }\n",
              "\n",
              "    .dataframe tbody tr th {\n",
              "        vertical-align: top;\n",
              "    }\n",
              "\n",
              "    .dataframe thead th {\n",
              "        text-align: right;\n",
              "    }\n",
              "</style>\n",
              "<table border=\"1\" class=\"dataframe\">\n",
              "  <thead>\n",
              "    <tr style=\"text-align: right;\">\n",
              "      <th></th>\n",
              "      <th>date</th>\n",
              "      <th>store</th>\n",
              "      <th>item</th>\n",
              "      <th>sales</th>\n",
              "    </tr>\n",
              "  </thead>\n",
              "  <tbody>\n",
              "    <tr>\n",
              "      <th>116001</th>\n",
              "      <td>2015-08-22</td>\n",
              "      <td>4</td>\n",
              "      <td>7</td>\n",
              "      <td>66</td>\n",
              "    </tr>\n",
              "    <tr>\n",
              "      <th>116002</th>\n",
              "      <td>2015-08-23</td>\n",
              "      <td>4</td>\n",
              "      <td>7</td>\n",
              "      <td>79</td>\n",
              "    </tr>\n",
              "    <tr>\n",
              "      <th>116003</th>\n",
              "      <td>2015-08-24</td>\n",
              "      <td>4</td>\n",
              "      <td>7</td>\n",
              "      <td>61</td>\n",
              "    </tr>\n",
              "    <tr>\n",
              "      <th>116004</th>\n",
              "      <td>2015-08-25</td>\n",
              "      <td>4</td>\n",
              "      <td>7</td>\n",
              "      <td>64</td>\n",
              "    </tr>\n",
              "    <tr>\n",
              "      <th>116005</th>\n",
              "      <td>2015-08-26</td>\n",
              "      <td>4</td>\n",
              "      <td>7</td>\n",
              "      <td>66</td>\n",
              "    </tr>\n",
              "  </tbody>\n",
              "</table>\n",
              "</div>"
            ],
            "text/plain": [
              "             date  store  item  sales\n",
              "116001 2015-08-22      4     7     66\n",
              "116002 2015-08-23      4     7     79\n",
              "116003 2015-08-24      4     7     61\n",
              "116004 2015-08-25      4     7     64\n",
              "116005 2015-08-26      4     7     66"
            ]
          },
          "metadata": {
            "tags": []
          },
          "execution_count": 75
        }
      ]
    },
    {
      "cell_type": "code",
      "metadata": {
        "id": "GHCezk8PuclD",
        "colab": {
          "base_uri": "https://localhost:8080/"
        },
        "outputId": "d6f51b68-9494-4fa7-c231-cb3aac4f644f"
      },
      "source": [
        "data= pd.concat([train, test], sort=False)\n",
        "print(data.head())\n",
        "print('- - - - - - - - - - - - - - - - - - - - -  - - - - -- - ')\n",
        "print(data.tail())"
      ],
      "execution_count": null,
      "outputs": [
        {
          "output_type": "stream",
          "text": [
            "        date  store  item  sales  id\n",
            "0 2013-01-01      1     1   13.0 NaN\n",
            "1 2013-01-02      1     1   11.0 NaN\n",
            "2 2013-01-03      1     1   14.0 NaN\n",
            "3 2013-01-04      1     1   13.0 NaN\n",
            "4 2013-01-05      1     1   10.0 NaN\n",
            "- - - - - - - - - - - - - - - - - - - - -  - - - - -- - \n",
            "            date  store  item  sales       id\n",
            "44995 2018-03-27     10    50    NaN  44995.0\n",
            "44996 2018-03-28     10    50    NaN  44996.0\n",
            "44997 2018-03-29     10    50    NaN  44997.0\n",
            "44998 2018-03-30     10    50    NaN  44998.0\n",
            "44999 2018-03-31     10    50    NaN  44999.0\n"
          ],
          "name": "stdout"
        }
      ]
    },
    {
      "cell_type": "markdown",
      "metadata": {
        "id": "elA-qrN9uclD"
      },
      "source": [
        "## Understanding The Data"
      ]
    },
    {
      "cell_type": "code",
      "metadata": {
        "id": "8FVR4wXjuclD",
        "colab": {
          "base_uri": "https://localhost:8080/"
        },
        "outputId": "3e7ef4ce-2027-4772-9842-413cc95a5177"
      },
      "source": [
        "train.shape"
      ],
      "execution_count": null,
      "outputs": [
        {
          "output_type": "execute_result",
          "data": {
            "text/plain": [
              "(116006, 4)"
            ]
          },
          "metadata": {
            "tags": []
          },
          "execution_count": 77
        }
      ]
    },
    {
      "cell_type": "code",
      "metadata": {
        "id": "ldDY_6fSuclE",
        "colab": {
          "base_uri": "https://localhost:8080/",
          "height": 297
        },
        "outputId": "8cba73fc-1091-4180-cbee-71f769a8e810"
      },
      "source": [
        "train.describe().round(2)"
      ],
      "execution_count": null,
      "outputs": [
        {
          "output_type": "execute_result",
          "data": {
            "text/html": [
              "<div>\n",
              "<style scoped>\n",
              "    .dataframe tbody tr th:only-of-type {\n",
              "        vertical-align: middle;\n",
              "    }\n",
              "\n",
              "    .dataframe tbody tr th {\n",
              "        vertical-align: top;\n",
              "    }\n",
              "\n",
              "    .dataframe thead th {\n",
              "        text-align: right;\n",
              "    }\n",
              "</style>\n",
              "<table border=\"1\" class=\"dataframe\">\n",
              "  <thead>\n",
              "    <tr style=\"text-align: right;\">\n",
              "      <th></th>\n",
              "      <th>store</th>\n",
              "      <th>item</th>\n",
              "      <th>sales</th>\n",
              "    </tr>\n",
              "  </thead>\n",
              "  <tbody>\n",
              "    <tr>\n",
              "      <th>count</th>\n",
              "      <td>116006.00</td>\n",
              "      <td>116006.00</td>\n",
              "      <td>116006.00</td>\n",
              "    </tr>\n",
              "    <tr>\n",
              "      <th>mean</th>\n",
              "      <td>5.32</td>\n",
              "      <td>3.69</td>\n",
              "      <td>37.55</td>\n",
              "    </tr>\n",
              "    <tr>\n",
              "      <th>std</th>\n",
              "      <td>2.90</td>\n",
              "      <td>1.84</td>\n",
              "      <td>22.77</td>\n",
              "    </tr>\n",
              "    <tr>\n",
              "      <th>min</th>\n",
              "      <td>1.00</td>\n",
              "      <td>1.00</td>\n",
              "      <td>0.00</td>\n",
              "    </tr>\n",
              "    <tr>\n",
              "      <th>25%</th>\n",
              "      <td>3.00</td>\n",
              "      <td>2.00</td>\n",
              "      <td>20.00</td>\n",
              "    </tr>\n",
              "    <tr>\n",
              "      <th>50%</th>\n",
              "      <td>5.00</td>\n",
              "      <td>4.00</td>\n",
              "      <td>31.00</td>\n",
              "    </tr>\n",
              "    <tr>\n",
              "      <th>75%</th>\n",
              "      <td>8.00</td>\n",
              "      <td>5.00</td>\n",
              "      <td>51.00</td>\n",
              "    </tr>\n",
              "    <tr>\n",
              "      <th>max</th>\n",
              "      <td>10.00</td>\n",
              "      <td>7.00</td>\n",
              "      <td>150.00</td>\n",
              "    </tr>\n",
              "  </tbody>\n",
              "</table>\n",
              "</div>"
            ],
            "text/plain": [
              "           store       item      sales\n",
              "count  116006.00  116006.00  116006.00\n",
              "mean        5.32       3.69      37.55\n",
              "std         2.90       1.84      22.77\n",
              "min         1.00       1.00       0.00\n",
              "25%         3.00       2.00      20.00\n",
              "50%         5.00       4.00      31.00\n",
              "75%         8.00       5.00      51.00\n",
              "max        10.00       7.00     150.00"
            ]
          },
          "metadata": {
            "tags": []
          },
          "execution_count": 78
        }
      ]
    },
    {
      "cell_type": "code",
      "metadata": {
        "id": "usCz8EMruclE",
        "colab": {
          "base_uri": "https://localhost:8080/"
        },
        "outputId": "62cf333f-6ab8-47e3-e367-4425ac5de870"
      },
      "source": [
        "train.isnull().sum().any()"
      ],
      "execution_count": null,
      "outputs": [
        {
          "output_type": "execute_result",
          "data": {
            "text/plain": [
              "False"
            ]
          },
          "metadata": {
            "tags": []
          },
          "execution_count": 79
        }
      ]
    },
    {
      "cell_type": "code",
      "metadata": {
        "id": "D7gt32s_uclF",
        "colab": {
          "base_uri": "https://localhost:8080/"
        },
        "outputId": "2ebb96d0-4f8d-44f7-9fb3-934c76493407"
      },
      "source": [
        "train.nunique()"
      ],
      "execution_count": null,
      "outputs": [
        {
          "output_type": "execute_result",
          "data": {
            "text/plain": [
              "date     1826\n",
              "store      10\n",
              "item        7\n",
              "sales     146\n",
              "dtype: int64"
            ]
          },
          "metadata": {
            "tags": []
          },
          "execution_count": 9
        }
      ]
    },
    {
      "cell_type": "markdown",
      "metadata": {
        "id": "CqqPpWVEuclF"
      },
      "source": [
        "#### There are 10 different stores and 50 types of items"
      ]
    },
    {
      "cell_type": "code",
      "metadata": {
        "id": "19_22h0muclF",
        "colab": {
          "base_uri": "https://localhost:8080/"
        },
        "outputId": "75725b10-6800-43fa-aa24-55e278117e6a"
      },
      "source": [
        "train['store'].value_counts()"
      ],
      "execution_count": null,
      "outputs": [
        {
          "output_type": "execute_result",
          "data": {
            "text/plain": [
              "3     12782\n",
              "2     12782\n",
              "1     12782\n",
              "4     11924\n",
              "10    10956\n",
              "9     10956\n",
              "8     10956\n",
              "7     10956\n",
              "6     10956\n",
              "5     10956\n",
              "Name: store, dtype: int64"
            ]
          },
          "metadata": {
            "tags": []
          },
          "execution_count": 10
        }
      ]
    },
    {
      "cell_type": "code",
      "metadata": {
        "id": "U2rUI9UPuclG",
        "colab": {
          "base_uri": "https://localhost:8080/"
        },
        "outputId": "b5923b6e-b838-4bf1-9107-348709270b88"
      },
      "source": [
        "train['item'].value_counts()"
      ],
      "execution_count": null,
      "outputs": [
        {
          "output_type": "execute_result",
          "data": {
            "text/plain": [
              "6    18260\n",
              "5    18260\n",
              "4    18260\n",
              "3    18260\n",
              "2    18260\n",
              "1    18260\n",
              "7     6446\n",
              "Name: item, dtype: int64"
            ]
          },
          "metadata": {
            "tags": []
          },
          "execution_count": 11
        }
      ]
    },
    {
      "cell_type": "code",
      "metadata": {
        "id": "rNY0dq_vuclG",
        "colab": {
          "base_uri": "https://localhost:8080/"
        },
        "outputId": "08321493-cc57-41e0-e62b-deb7c117edc9"
      },
      "source": [
        "train.groupby('store')['item'].nunique()"
      ],
      "execution_count": null,
      "outputs": [
        {
          "output_type": "execute_result",
          "data": {
            "text/plain": [
              "store\n",
              "1     7\n",
              "2     7\n",
              "3     7\n",
              "4     7\n",
              "5     6\n",
              "6     6\n",
              "7     6\n",
              "8     6\n",
              "9     6\n",
              "10    6\n",
              "Name: item, dtype: int64"
            ]
          },
          "metadata": {
            "tags": []
          },
          "execution_count": 12
        }
      ]
    },
    {
      "cell_type": "markdown",
      "metadata": {
        "id": "eKLH6RgZuclG"
      },
      "source": [
        "#### No.of type of items being sold in each store is 50"
      ]
    },
    {
      "cell_type": "markdown",
      "metadata": {
        "id": "uXlLCAcfuclH"
      },
      "source": [
        "### Feature Engineering"
      ]
    },
    {
      "cell_type": "code",
      "metadata": {
        "id": "cIhBcWwvuclH"
      },
      "source": [
        "def create_time_features(df):\n",
        "    df['month']= df.date.dt.month\n",
        "    df['year']= df.date.dt.year\n",
        "    df['day_of_month']= df.date.dt.day\n",
        "    df['day_of_week']= df.date.dt.dayofweek+1\n",
        "    df['day_of_year']= df.date.dt.dayofyear\n",
        "    df['week_of_year']=df.date.dt.weekofyear\n",
        "    df['is_weekend']= df.date.dt.weekday//4\n",
        "    df['is_startofmonth']= df.date.dt.is_month_start.astype(int)\n",
        "    df['is_endofmonth']= df.date.dt.is_month_end.astype(int)\n",
        "    return df\n",
        "train=create_time_features(train)\n",
        "data= create_time_features(data)"
      ],
      "execution_count": null,
      "outputs": []
    },
    {
      "cell_type": "code",
      "metadata": {
        "id": "dpcyVa9RuclH",
        "colab": {
          "base_uri": "https://localhost:8080/"
        },
        "outputId": "e6a9f0d5-fcf3-45ac-b7fe-475aaa5585a8"
      },
      "source": [
        "train.info()"
      ],
      "execution_count": null,
      "outputs": [
        {
          "output_type": "stream",
          "text": [
            "<class 'pandas.core.frame.DataFrame'>\n",
            "RangeIndex: 116006 entries, 0 to 116005\n",
            "Data columns (total 13 columns):\n",
            " #   Column           Non-Null Count   Dtype         \n",
            "---  ------           --------------   -----         \n",
            " 0   date             116006 non-null  datetime64[ns]\n",
            " 1   store            116006 non-null  int64         \n",
            " 2   item             116006 non-null  int64         \n",
            " 3   sales            116006 non-null  int64         \n",
            " 4   month            116006 non-null  int64         \n",
            " 5   year             116006 non-null  int64         \n",
            " 6   day_of_month     116006 non-null  int64         \n",
            " 7   day_of_week      116006 non-null  int64         \n",
            " 8   day_of_year      116006 non-null  int64         \n",
            " 9   week_of_year     116006 non-null  int64         \n",
            " 10  is_weekend       116006 non-null  int64         \n",
            " 11  is_startofmonth  116006 non-null  int64         \n",
            " 12  is_endofmonth    116006 non-null  int64         \n",
            "dtypes: datetime64[ns](1), int64(12)\n",
            "memory usage: 11.5 MB\n"
          ],
          "name": "stdout"
        }
      ]
    },
    {
      "cell_type": "markdown",
      "metadata": {
        "id": "u060BgPbuclH"
      },
      "source": [
        "##### Analysing the training data , We concluded that dates are ranging from 2013-01-01 to 2017-12-31. And for training data from 2013-01-01 to 2013-03-31. That is we are required to forecast sales of future 3 months."
      ]
    },
    {
      "cell_type": "code",
      "metadata": {
        "id": "DR-kUO6BuclI",
        "colab": {
          "base_uri": "https://localhost:8080/",
          "height": 235
        },
        "outputId": "54d0e13a-9121-45dc-aa72-b244f5ab3e5c"
      },
      "source": [
        "train= train.set_index('date')\n",
        "train.head()"
      ],
      "execution_count": null,
      "outputs": [
        {
          "output_type": "execute_result",
          "data": {
            "text/html": [
              "<div>\n",
              "<style scoped>\n",
              "    .dataframe tbody tr th:only-of-type {\n",
              "        vertical-align: middle;\n",
              "    }\n",
              "\n",
              "    .dataframe tbody tr th {\n",
              "        vertical-align: top;\n",
              "    }\n",
              "\n",
              "    .dataframe thead th {\n",
              "        text-align: right;\n",
              "    }\n",
              "</style>\n",
              "<table border=\"1\" class=\"dataframe\">\n",
              "  <thead>\n",
              "    <tr style=\"text-align: right;\">\n",
              "      <th></th>\n",
              "      <th>store</th>\n",
              "      <th>item</th>\n",
              "      <th>sales</th>\n",
              "      <th>month</th>\n",
              "      <th>year</th>\n",
              "      <th>day_of_month</th>\n",
              "      <th>day_of_week</th>\n",
              "      <th>day_of_year</th>\n",
              "      <th>week_of_year</th>\n",
              "      <th>is_weekend</th>\n",
              "      <th>is_startofmonth</th>\n",
              "      <th>is_endofmonth</th>\n",
              "    </tr>\n",
              "    <tr>\n",
              "      <th>date</th>\n",
              "      <th></th>\n",
              "      <th></th>\n",
              "      <th></th>\n",
              "      <th></th>\n",
              "      <th></th>\n",
              "      <th></th>\n",
              "      <th></th>\n",
              "      <th></th>\n",
              "      <th></th>\n",
              "      <th></th>\n",
              "      <th></th>\n",
              "      <th></th>\n",
              "    </tr>\n",
              "  </thead>\n",
              "  <tbody>\n",
              "    <tr>\n",
              "      <th>2013-01-01</th>\n",
              "      <td>1</td>\n",
              "      <td>1</td>\n",
              "      <td>13</td>\n",
              "      <td>1</td>\n",
              "      <td>2013</td>\n",
              "      <td>1</td>\n",
              "      <td>2</td>\n",
              "      <td>1</td>\n",
              "      <td>1</td>\n",
              "      <td>0</td>\n",
              "      <td>1</td>\n",
              "      <td>0</td>\n",
              "    </tr>\n",
              "    <tr>\n",
              "      <th>2013-01-02</th>\n",
              "      <td>1</td>\n",
              "      <td>1</td>\n",
              "      <td>11</td>\n",
              "      <td>1</td>\n",
              "      <td>2013</td>\n",
              "      <td>2</td>\n",
              "      <td>3</td>\n",
              "      <td>2</td>\n",
              "      <td>1</td>\n",
              "      <td>0</td>\n",
              "      <td>0</td>\n",
              "      <td>0</td>\n",
              "    </tr>\n",
              "    <tr>\n",
              "      <th>2013-01-03</th>\n",
              "      <td>1</td>\n",
              "      <td>1</td>\n",
              "      <td>14</td>\n",
              "      <td>1</td>\n",
              "      <td>2013</td>\n",
              "      <td>3</td>\n",
              "      <td>4</td>\n",
              "      <td>3</td>\n",
              "      <td>1</td>\n",
              "      <td>0</td>\n",
              "      <td>0</td>\n",
              "      <td>0</td>\n",
              "    </tr>\n",
              "    <tr>\n",
              "      <th>2013-01-04</th>\n",
              "      <td>1</td>\n",
              "      <td>1</td>\n",
              "      <td>13</td>\n",
              "      <td>1</td>\n",
              "      <td>2013</td>\n",
              "      <td>4</td>\n",
              "      <td>5</td>\n",
              "      <td>4</td>\n",
              "      <td>1</td>\n",
              "      <td>1</td>\n",
              "      <td>0</td>\n",
              "      <td>0</td>\n",
              "    </tr>\n",
              "    <tr>\n",
              "      <th>2013-01-05</th>\n",
              "      <td>1</td>\n",
              "      <td>1</td>\n",
              "      <td>10</td>\n",
              "      <td>1</td>\n",
              "      <td>2013</td>\n",
              "      <td>5</td>\n",
              "      <td>6</td>\n",
              "      <td>5</td>\n",
              "      <td>1</td>\n",
              "      <td>1</td>\n",
              "      <td>0</td>\n",
              "      <td>0</td>\n",
              "    </tr>\n",
              "  </tbody>\n",
              "</table>\n",
              "</div>"
            ],
            "text/plain": [
              "            store  item  sales  ...  is_weekend  is_startofmonth  is_endofmonth\n",
              "date                            ...                                            \n",
              "2013-01-01      1     1     13  ...           0                1              0\n",
              "2013-01-02      1     1     11  ...           0                0              0\n",
              "2013-01-03      1     1     14  ...           0                0              0\n",
              "2013-01-04      1     1     13  ...           1                0              0\n",
              "2013-01-05      1     1     10  ...           1                0              0\n",
              "\n",
              "[5 rows x 12 columns]"
            ]
          },
          "metadata": {
            "tags": []
          },
          "execution_count": 15
        }
      ]
    },
    {
      "cell_type": "markdown",
      "metadata": {
        "id": "GrHDz2i5uclI"
      },
      "source": [
        "## EDA"
      ]
    },
    {
      "cell_type": "code",
      "metadata": {
        "id": "SLU4xjoxuclI",
        "colab": {
          "base_uri": "https://localhost:8080/",
          "height": 296
        },
        "outputId": "2ae6961d-f567-4bab-8656-28efc215eaac"
      },
      "source": [
        "sns.kdeplot(train['sales'])"
      ],
      "execution_count": null,
      "outputs": [
        {
          "output_type": "execute_result",
          "data": {
            "text/plain": [
              "<matplotlib.axes._subplots.AxesSubplot at 0x7fe6ed903e10>"
            ]
          },
          "metadata": {
            "tags": []
          },
          "execution_count": 16
        },
        {
          "output_type": "display_data",
          "data": {
            "image/png": "[encoded data removed]",
            "text/plain": [
              "<Figure size 432x288 with 1 Axes>"
            ]
          },
          "metadata": {
            "tags": [],
            "needs_background": "light"
          }
        }
      ]
    },
    {
      "cell_type": "code",
      "metadata": {
        "id": "8zc4qOpvuclJ",
        "colab": {
          "base_uri": "https://localhost:8080/",
          "height": 405
        },
        "outputId": "5c8295e1-13ac-4a98-c2e7-914781506dd3"
      },
      "source": [
        "plt.figure(figsize=(14,6))\n",
        "sns.kdeplot(train['sales'], hue=train['store'], palette='nipy_spectral_r')"
      ],
      "execution_count": null,
      "outputs": [
        {
          "output_type": "execute_result",
          "data": {
            "text/plain": [
              "<matplotlib.axes._subplots.AxesSubplot at 0x7fe6cb559cd0>"
            ]
          },
          "metadata": {
            "tags": []
          },
          "execution_count": 17
        },
        {
          "output_type": "display_data",
          "data": {
            "image/png": "[encoded data removed]",
            "text/plain": [
              "<Figure size 1008x432 with 1 Axes>"
            ]
          },
          "metadata": {
            "tags": [],
            "needs_background": "light"
          }
        }
      ]
    },
    {
      "cell_type": "markdown",
      "metadata": {
        "id": "vqu1HbTnuclJ"
      },
      "source": [
        "#### Sales occur more b/w 25 and 50\n",
        "#### More sales occur at store 7 and least at store 2"
      ]
    },
    {
      "cell_type": "code",
      "metadata": {
        "id": "lCHi0ryiuclJ",
        "colab": {
          "base_uri": "https://localhost:8080/",
          "height": 405
        },
        "outputId": "5264cbc4-a2bd-43ed-bb3c-6a20ffd34a0e"
      },
      "source": [
        "plt.figure(figsize=(14,6))\n",
        "plot_order = train.groupby('item')['sales'].sum().sort_values(ascending=False).index.values\n",
        "sns.boxplot(data=train, x='item', y='sales',order=plot_order, palette='viridis')"
      ],
      "execution_count": null,
      "outputs": [
        {
          "output_type": "execute_result",
          "data": {
            "text/plain": [
              "<matplotlib.axes._subplots.AxesSubplot at 0x7fe6c07dbc50>"
            ]
          },
          "metadata": {
            "tags": []
          },
          "execution_count": 18
        },
        {
          "output_type": "display_data",
          "data": {
            "image/png": "[encoded data removed]",
            "text/plain": [
              "<Figure size 1008x432 with 1 Axes>"
            ]
          },
          "metadata": {
            "tags": [],
            "needs_background": "light"
          }
        }
      ]
    },
    {
      "cell_type": "markdown",
      "metadata": {
        "id": "B1lTXnFeuclK"
      },
      "source": [
        "#### More sales are from item 15 and less from item 5"
      ]
    },
    {
      "cell_type": "code",
      "metadata": {
        "id": "9069X_pHuclK"
      },
      "source": [
        "#sales by year\n",
        "agg_year_item= pd.pivot_table(train, index='year', columns='item', values='sales',aggfunc=np.mean).values\n",
        "agg_year_store= pd.pivot_table(train, index='year', columns='store', values='sales',aggfunc=np.mean).values"
      ],
      "execution_count": null,
      "outputs": []
    },
    {
      "cell_type": "code",
      "metadata": {
        "id": "6boMAwGguclK",
        "colab": {
          "base_uri": "https://localhost:8080/",
          "height": 350
        },
        "outputId": "0dfe87a7-5eb0-41a7-b68a-b5aed7dc45b5"
      },
      "source": [
        "plt.figure(figsize=(10,5))\n",
        "plt.subplot(121)\n",
        "plt.plot(agg_year_item/agg_year_item.mean(0)[np.newaxis])\n",
        "plt.title('ITEM')\n",
        "plt.ylabel('Relative Sales')\n",
        "plt.xlabel('Year')\n",
        "plt.subplot(122)\n",
        "plt.plot(agg_year_store/agg_year_store.mean(0)[np.newaxis])\n",
        "plt.title('STORE')\n",
        "plt.ylabel('Relative Sales')\n",
        "plt.xlabel('Year')\n",
        "plt.show()"
      ],
      "execution_count": null,
      "outputs": [
        {
          "output_type": "display_data",
          "data": {
            "image/png": "[encoded data removed]",
            "text/plain": [
              "<Figure size 720x360 with 2 Axes>"
            ]
          },
          "metadata": {
            "tags": [],
            "needs_background": "light"
          }
        }
      ]
    },
    {
      "cell_type": "markdown",
      "metadata": {
        "id": "Z-Tbz0v_uclL"
      },
      "source": [
        "#### Items and Stores grow over time similiarly"
      ]
    },
    {
      "cell_type": "code",
      "metadata": {
        "id": "uku_ILg1uclL"
      },
      "source": [
        "#sales by month\n",
        "agg_month_item= pd.pivot_table(train, index='month', columns='item', values='sales',aggfunc=np.mean).values\n",
        "agg_month_store= pd.pivot_table(train, index='month', columns='store', values='sales',aggfunc=np.mean).values"
      ],
      "execution_count": null,
      "outputs": []
    },
    {
      "cell_type": "code",
      "metadata": {
        "id": "AZai5BSpuclL",
        "colab": {
          "base_uri": "https://localhost:8080/",
          "height": 350
        },
        "outputId": "bfb65ac6-b5e1-48fa-aef3-dfe4faa65220"
      },
      "source": [
        "plt.figure(figsize=(10,5))\n",
        "plt.subplot(121)\n",
        "plt.plot(agg_month_item/agg_month_item.mean(0)[np.newaxis])\n",
        "plt.title('ITEM')\n",
        "plt.ylabel('Relative Sales')\n",
        "plt.xlabel('Month')\n",
        "plt.subplot(122)\n",
        "plt.plot(agg_month_store/agg_month_store.mean(0)[np.newaxis])\n",
        "plt.title('STORE')\n",
        "plt.ylabel('Relative Sales')\n",
        "plt.xlabel('Month')\n",
        "plt.show()"
      ],
      "execution_count": null,
      "outputs": [
        {
          "output_type": "display_data",
          "data": {
            "image/png": "[encoded data removed]",
            "text/plain": [
              "<Figure size 720x360 with 2 Axes>"
            ]
          },
          "metadata": {
            "tags": [],
            "needs_background": "light"
          }
        }
      ]
    },
    {
      "cell_type": "markdown",
      "metadata": {
        "id": "3CtN_xAFuclL"
      },
      "source": [
        "#### Similiar pattern for both item and store sales"
      ]
    },
    {
      "cell_type": "code",
      "metadata": {
        "id": "CtKVTqG_uclM",
        "colab": {
          "base_uri": "https://localhost:8080/",
          "height": 391
        },
        "outputId": "12381d97-cba5-4f6d-d23f-f3d761f04701"
      },
      "source": [
        "plt.figure(figsize=(12,6))\n",
        "plt.plot(train['sales'])"
      ],
      "execution_count": null,
      "outputs": [
        {
          "output_type": "execute_result",
          "data": {
            "text/plain": [
              "[<matplotlib.lines.Line2D at 0x7fe6bec68510>]"
            ]
          },
          "metadata": {
            "tags": []
          },
          "execution_count": 23
        },
        {
          "output_type": "display_data",
          "data": {
            "image/png": "[encoded data removed]",
            "text/plain": [
              "<Figure size 864x432 with 1 Axes>"
            ]
          },
          "metadata": {
            "tags": [],
            "needs_background": "light"
          }
        }
      ]
    },
    {
      "cell_type": "code",
      "metadata": {
        "id": "iQ2V4n3GuclM",
        "colab": {
          "base_uri": "https://localhost:8080/"
        },
        "outputId": "6618f863-e84b-4645-c37a-0018bf685311"
      },
      "source": [
        "# Resampling to Monthly wise\n",
        "train_monthly= train.resample('m').mean()\n",
        "train_monthly.shape"
      ],
      "execution_count": null,
      "outputs": [
        {
          "output_type": "execute_result",
          "data": {
            "text/plain": [
              "(60, 12)"
            ]
          },
          "metadata": {
            "tags": []
          },
          "execution_count": 24
        }
      ]
    },
    {
      "cell_type": "code",
      "metadata": {
        "id": "3a_OD12GuclM",
        "colab": {
          "base_uri": "https://localhost:8080/",
          "height": 298
        },
        "outputId": "34bebb96-da9c-41f4-b618-976aae0dee12"
      },
      "source": [
        "from statsmodels.tsa.seasonal import seasonal_decompose\n",
        "result= seasonal_decompose(train_monthly['sales'], model='additive')\n",
        "result.plot();"
      ],
      "execution_count": null,
      "outputs": [
        {
          "output_type": "display_data",
          "data": {
            "image/png": "[encoded data removed]",
            "text/plain": [
              "<Figure size 432x288 with 4 Axes>"
            ]
          },
          "metadata": {
            "tags": [],
            "needs_background": "light"
          }
        }
      ]
    },
    {
      "cell_type": "markdown",
      "metadata": {
        "id": "5eGiOT48uclM"
      },
      "source": [
        "#### Seems Data is non-stationary\n",
        "#### Data has clear trend and seasonality.\n",
        "#### Residuals are decomposing randomly around 0, so the series is additive."
      ]
    },
    {
      "cell_type": "markdown",
      "metadata": {
        "id": "oNKYFBKKuclN"
      },
      "source": [
        "#### ----------------------------------------------------------------------------------------"
      ]
    },
    {
      "cell_type": "markdown",
      "metadata": {
        "id": "w5lyI5i8uclN"
      },
      "source": [
        "## Checking for stationarity"
      ]
    },
    {
      "cell_type": "markdown",
      "metadata": {
        "id": "cKRbcGZwuclN"
      },
      "source": [
        "### 1) Rolling Mean"
      ]
    },
    {
      "cell_type": "code",
      "metadata": {
        "id": "tjcg7IwBuclN"
      },
      "source": [
        "def test_stationarity(timeseries):\n",
        "    #Determing rolling statistics\n",
        "    rolmean = timeseries.rolling(window=12).mean()\n",
        "    rolstd = timeseries.rolling(window=12).std()\n",
        "\n",
        "    #Plot rolling statistics:\n",
        "    fig = plt.figure(figsize=(16, 4))\n",
        "    orig = plt.plot(timeseries, color='blue',label='Original')\n",
        "    mean = plt.plot(rolmean, color='red', label='Rolling Mean')\n",
        "    std = plt.plot(rolstd, color='black', label = 'Rolling Std')\n",
        "    plt.legend(loc='best')\n",
        "    plt.title('Rolling Mean & Standard Deviation')\n",
        "    plt.show(block=False)"
      ],
      "execution_count": null,
      "outputs": []
    },
    {
      "cell_type": "code",
      "metadata": {
        "id": "o12WnUVquclO",
        "colab": {
          "base_uri": "https://localhost:8080/",
          "height": 281
        },
        "outputId": "897b31b4-21b4-44cc-c070-18d42c841f53"
      },
      "source": [
        "test_stationarity(train_monthly['sales'])"
      ],
      "execution_count": null,
      "outputs": [
        {
          "output_type": "display_data",
          "data": {
            "image/png": "[encoded data removed]",
            "text/plain": [
              "<Figure size 1152x288 with 1 Axes>"
            ]
          },
          "metadata": {
            "tags": [],
            "needs_background": "light"
          }
        }
      ]
    },
    {
      "cell_type": "markdown",
      "metadata": {
        "id": "AgmibHNtuclO"
      },
      "source": [
        "### 2) ADCF TEST"
      ]
    },
    {
      "cell_type": "code",
      "metadata": {
        "id": "8tmmpJDLuclO"
      },
      "source": [
        "#H0-->null hypothesis-->It is non-stationary\n",
        "#H1-->Alternate hypothesis --> It is stationary\n",
        "def adfuller_test(timeseries):\n",
        "    results= adfuller(timeseries)\n",
        "    labels= ['ADF test statistic', 'p-value','Lags used', 'No.of observations used']\n",
        "    for value, label in zip(results, labels):\n",
        "        print(label+ ':' +str(value))\n",
        "    if results[1]<=0.01:\n",
        "        print('Strong evidence againt null hypothesis(H1). Its stationary')\n",
        "    else:\n",
        "        print('Weak evidence against alternate hypothesis(H1). Its non-stationary')"
      ],
      "execution_count": null,
      "outputs": []
    },
    {
      "cell_type": "code",
      "metadata": {
        "id": "C0vVvDiwuclO",
        "colab": {
          "base_uri": "https://localhost:8080/"
        },
        "outputId": "85ed8994-2347-475f-db80-952eabf4e631"
      },
      "source": [
        "adfuller_test(train_monthly['sales'])"
      ],
      "execution_count": null,
      "outputs": [
        {
          "output_type": "stream",
          "text": [
            "ADF test statistic:-5.736278143153922\n",
            "p-value:6.427360681442051e-07\n",
            "Lags used:11\n",
            "No.of observations used:48\n",
            "Strong evidence againt null hypothesis(H1). Its stationary\n"
          ],
          "name": "stdout"
        }
      ]
    },
    {
      "cell_type": "markdown",
      "metadata": {
        "id": "iDWWvGhouclP"
      },
      "source": [
        "### Plotting ACF ANF PACF"
      ]
    },
    {
      "cell_type": "code",
      "metadata": {
        "id": "FXiT0xN4uclP",
        "colab": {
          "base_uri": "https://localhost:8080/",
          "height": 499
        },
        "outputId": "66fb2a93-5d41-4389-dfc9-8dedcef47bb5"
      },
      "source": [
        "fig = plt.figure(figsize=(12,8))\n",
        "ax1 = fig.add_subplot(211)\n",
        "fig = sm.graphics.tsa.plot_acf(train_monthly['sales'].dropna(), lags=10, ax=ax1) # \n",
        "ax2 = fig.add_subplot(212)\n",
        "fig = sm.graphics.tsa.plot_pacf(train_monthly['sales'].dropna(), lags=10, ax=ax2)"
      ],
      "execution_count": null,
      "outputs": [
        {
          "output_type": "display_data",
          "data": {
            "image/png": "[encoded data removed]",
            "text/plain": [
              "<Figure size 864x576 with 2 Axes>"
            ]
          },
          "metadata": {
            "tags": [],
            "needs_background": "light"
          }
        }
      ]
    },
    {
      "cell_type": "code",
      "metadata": {
        "id": "Uhr97KkmuclP",
        "colab": {
          "base_uri": "https://localhost:8080/"
        },
        "outputId": "fcbe0297-2e5f-4ba3-e61d-4f359705d294"
      },
      "source": [
        "train1= train_monthly[0:48]\n",
        "test1= train_monthly[48:]\n",
        "print('training data:', train1.shape[0])\n",
        "print('testing data:', test1.shape[0])"
      ],
      "execution_count": null,
      "outputs": [
        {
          "output_type": "stream",
          "text": [
            "training data: 48\n",
            "testing data: 12\n"
          ],
          "name": "stdout"
        }
      ]
    },
    {
      "cell_type": "code",
      "metadata": {
        "id": "xu6USSMQuclP",
        "colab": {
          "base_uri": "https://localhost:8080/",
          "height": 309
        },
        "outputId": "8b82b29b-c6c8-43d6-afdb-b6cf8167b117"
      },
      "source": [
        "result_ar= ARIMA(train1['sales'], order=(0,1,1)).fit(disp=False)\n",
        "result_ar.summary()"
      ],
      "execution_count": null,
      "outputs": [
        {
          "output_type": "execute_result",
          "data": {
            "text/html": [
              "<table class=\"simpletable\">\n",
              "<caption>ARIMA Model Results</caption>\n",
              "<tr>\n",
              "  <th>Dep. Variable:</th>      <td>D.sales</td>     <th>  No. Observations:  </th>    <td>47</td>   \n",
              "</tr>\n",
              "<tr>\n",
              "  <th>Model:</th>          <td>ARIMA(0, 1, 1)</td>  <th>  Log Likelihood     </th> <td>-139.886</td>\n",
              "</tr>\n",
              "<tr>\n",
              "  <th>Method:</th>             <td>css-mle</td>     <th>  S.D. of innovations</th>   <td>4.745</td> \n",
              "</tr>\n",
              "<tr>\n",
              "  <th>Date:</th>          <td>Tue, 27 Apr 2021</td> <th>  AIC                </th>  <td>285.772</td>\n",
              "</tr>\n",
              "<tr>\n",
              "  <th>Time:</th>              <td>17:08:56</td>     <th>  BIC                </th>  <td>291.322</td>\n",
              "</tr>\n",
              "<tr>\n",
              "  <th>Sample:</th>           <td>02-28-2013</td>    <th>  HQIC               </th>  <td>287.860</td>\n",
              "</tr>\n",
              "<tr>\n",
              "  <th></th>                 <td>- 12-31-2016</td>   <th>                     </th>     <td> </td>   \n",
              "</tr>\n",
              "</table>\n",
              "<table class=\"simpletable\">\n",
              "<tr>\n",
              "        <td></td>           <th>coef</th>     <th>std err</th>      <th>z</th>      <th>P>|z|</th>  <th>[0.025</th>    <th>0.975]</th>  \n",
              "</tr>\n",
              "<tr>\n",
              "  <th>const</th>         <td>    0.1691</td> <td>    0.795</td> <td>    0.213</td> <td> 0.833</td> <td>   -1.390</td> <td>    1.728</td>\n",
              "</tr>\n",
              "<tr>\n",
              "  <th>ma.L1.D.sales</th> <td>    0.1514</td> <td>    0.130</td> <td>    1.163</td> <td> 0.251</td> <td>   -0.104</td> <td>    0.407</td>\n",
              "</tr>\n",
              "</table>\n",
              "<table class=\"simpletable\">\n",
              "<caption>Roots</caption>\n",
              "<tr>\n",
              "    <td></td>   <th>            Real</th>  <th>         Imaginary</th> <th>         Modulus</th>  <th>        Frequency</th>\n",
              "</tr>\n",
              "<tr>\n",
              "  <th>MA.1</th> <td>          -6.6053</td> <td>          +0.0000j</td> <td>           6.6053</td> <td>           0.5000</td>\n",
              "</tr>\n",
              "</table>"
            ],
            "text/plain": [
              "<class 'statsmodels.iolib.summary.Summary'>\n",
              "\"\"\"\n",
              "                             ARIMA Model Results                              \n",
              "==============================================================================\n",
              "Dep. Variable:                D.sales   No. Observations:                   47\n",
              "Model:                 ARIMA(0, 1, 1)   Log Likelihood                -139.886\n",
              "Method:                       css-mle   S.D. of innovations              4.745\n",
              "Date:                Tue, 27 Apr 2021   AIC                            285.772\n",
              "Time:                        17:08:56   BIC                            291.322\n",
              "Sample:                    02-28-2013   HQIC                           287.860\n",
              "                         - 12-31-2016                                         \n",
              "=================================================================================\n",
              "                    coef    std err          z      P>|z|      [0.025      0.975]\n",
              "---------------------------------------------------------------------------------\n",
              "const             0.1691      0.795      0.213      0.833      -1.390       1.728\n",
              "ma.L1.D.sales     0.1514      0.130      1.163      0.251      -0.104       0.407\n",
              "                                    Roots                                    \n",
              "=============================================================================\n",
              "                  Real          Imaginary           Modulus         Frequency\n",
              "-----------------------------------------------------------------------------\n",
              "MA.1           -6.6053           +0.0000j            6.6053            0.5000\n",
              "-----------------------------------------------------------------------------\n",
              "\"\"\""
            ]
          },
          "metadata": {
            "tags": []
          },
          "execution_count": 32
        }
      ]
    },
    {
      "cell_type": "code",
      "metadata": {
        "id": "RRaAX6mvuclQ"
      },
      "source": [
        "ar_pred= result_ar.predict(start=48, end=60).rename('AR forecasting')"
      ],
      "execution_count": null,
      "outputs": []
    },
    {
      "cell_type": "code",
      "metadata": {
        "id": "a5PcnZlwuclQ",
        "colab": {
          "base_uri": "https://localhost:8080/",
          "height": 405
        },
        "outputId": "79552ae6-da3a-4931-dba7-c351607f225b"
      },
      "source": [
        "train1['sales'].plot(figsize=(14,6), legend=True, color='orange')\n",
        "ar_pred.plot(figsize=(14,6), legend=True)"
      ],
      "execution_count": null,
      "outputs": [
        {
          "output_type": "execute_result",
          "data": {
            "text/plain": [
              "<matplotlib.axes._subplots.AxesSubplot at 0x7fe6bea0afd0>"
            ]
          },
          "metadata": {
            "tags": []
          },
          "execution_count": 34
        },
        {
          "output_type": "display_data",
          "data": {
            "image/png": "[encoded data removed]",
            "text/plain": [
              "<Figure size 1008x432 with 1 Axes>"
            ]
          },
          "metadata": {
            "tags": [],
            "needs_background": "light"
          }
        }
      ]
    },
    {
      "cell_type": "code",
      "metadata": {
        "id": "A4fvw3yAuclR",
        "colab": {
          "base_uri": "https://localhost:8080/",
          "height": 603
        },
        "outputId": "6d5a96de-f9fc-4dc9-cdf2-b3066390ea10"
      },
      "source": [
        "result_sarima= sm.tsa.statespace.SARIMAX(train1['sales'], order=(2,1,2), seasonal_order=(2,1,2,4)).fit()\n",
        "result_sarima.summary()"
      ],
      "execution_count": null,
      "outputs": [
        {
          "output_type": "stream",
          "text": [
            "/usr/local/lib/python3.7/dist-packages/statsmodels/base/model.py:512: ConvergenceWarning: Maximum Likelihood optimization failed to converge. Check mle_retvals\n",
            "  \"Check mle_retvals\", ConvergenceWarning)\n"
          ],
          "name": "stderr"
        },
        {
          "output_type": "execute_result",
          "data": {
            "text/html": [
              "<table class=\"simpletable\">\n",
              "<caption>Statespace Model Results</caption>\n",
              "<tr>\n",
              "  <th>Dep. Variable:</th>               <td>sales</td>             <th>  No. Observations:  </th>   <td>48</td>   \n",
              "</tr>\n",
              "<tr>\n",
              "  <th>Model:</th>           <td>SARIMAX(2, 1, 2)x(2, 1, 2, 4)</td> <th>  Log Likelihood     </th> <td>-67.922</td>\n",
              "</tr>\n",
              "<tr>\n",
              "  <th>Date:</th>                  <td>Tue, 27 Apr 2021</td>        <th>  AIC                </th> <td>153.845</td>\n",
              "</tr>\n",
              "<tr>\n",
              "  <th>Time:</th>                      <td>17:08:58</td>            <th>  BIC                </th> <td>169.696</td>\n",
              "</tr>\n",
              "<tr>\n",
              "  <th>Sample:</th>                   <td>01-31-2013</td>           <th>  HQIC               </th> <td>159.690</td>\n",
              "</tr>\n",
              "<tr>\n",
              "  <th></th>                         <td>- 12-31-2016</td>          <th>                     </th>    <td> </td>   \n",
              "</tr>\n",
              "<tr>\n",
              "  <th>Covariance Type:</th>              <td>opg</td>              <th>                     </th>    <td> </td>   \n",
              "</tr>\n",
              "</table>\n",
              "<table class=\"simpletable\">\n",
              "<tr>\n",
              "     <td></td>        <th>coef</th>     <th>std err</th>      <th>z</th>      <th>P>|z|</th>  <th>[0.025</th>    <th>0.975]</th>  \n",
              "</tr>\n",
              "<tr>\n",
              "  <th>ar.L1</th>   <td>    0.2764</td> <td>    1.286</td> <td>    0.215</td> <td> 0.830</td> <td>   -2.243</td> <td>    2.796</td>\n",
              "</tr>\n",
              "<tr>\n",
              "  <th>ar.L2</th>   <td>    0.5141</td> <td>    1.047</td> <td>    0.491</td> <td> 0.623</td> <td>   -1.537</td> <td>    2.566</td>\n",
              "</tr>\n",
              "<tr>\n",
              "  <th>ma.L1</th>   <td>   -0.2589</td> <td>    1.330</td> <td>   -0.195</td> <td> 0.846</td> <td>   -2.865</td> <td>    2.347</td>\n",
              "</tr>\n",
              "<tr>\n",
              "  <th>ma.L2</th>   <td>   -0.7159</td> <td>    1.139</td> <td>   -0.629</td> <td> 0.530</td> <td>   -2.948</td> <td>    1.516</td>\n",
              "</tr>\n",
              "<tr>\n",
              "  <th>ar.S.L4</th> <td>   -1.0159</td> <td>    0.038</td> <td>  -26.410</td> <td> 0.000</td> <td>   -1.091</td> <td>   -0.941</td>\n",
              "</tr>\n",
              "<tr>\n",
              "  <th>ar.S.L8</th> <td>   -0.9898</td> <td>    0.010</td> <td>  -96.266</td> <td> 0.000</td> <td>   -1.010</td> <td>   -0.970</td>\n",
              "</tr>\n",
              "<tr>\n",
              "  <th>ma.S.L4</th> <td>    0.0066</td> <td>    0.424</td> <td>    0.016</td> <td> 0.988</td> <td>   -0.824</td> <td>    0.837</td>\n",
              "</tr>\n",
              "<tr>\n",
              "  <th>ma.S.L8</th> <td>    0.0471</td> <td>    0.426</td> <td>    0.111</td> <td> 0.912</td> <td>   -0.788</td> <td>    0.882</td>\n",
              "</tr>\n",
              "<tr>\n",
              "  <th>sigma2</th>  <td>    0.6224</td> <td>    0.325</td> <td>    1.913</td> <td> 0.056</td> <td>   -0.015</td> <td>    1.260</td>\n",
              "</tr>\n",
              "</table>\n",
              "<table class=\"simpletable\">\n",
              "<tr>\n",
              "  <th>Ljung-Box (Q):</th>          <td>34.81</td> <th>  Jarque-Bera (JB):  </th> <td>0.54</td> \n",
              "</tr>\n",
              "<tr>\n",
              "  <th>Prob(Q):</th>                <td>0.70</td>  <th>  Prob(JB):          </th> <td>0.76</td> \n",
              "</tr>\n",
              "<tr>\n",
              "  <th>Heteroskedasticity (H):</th> <td>1.62</td>  <th>  Skew:              </th> <td>-0.27</td>\n",
              "</tr>\n",
              "<tr>\n",
              "  <th>Prob(H) (two-sided):</th>    <td>0.37</td>  <th>  Kurtosis:          </th> <td>3.05</td> \n",
              "</tr>\n",
              "</table><br/><br/>Warnings:<br/>[1] Covariance matrix calculated using the outer product of gradients (complex-step)."
            ],
            "text/plain": [
              "<class 'statsmodels.iolib.summary.Summary'>\n",
              "\"\"\"\n",
              "                                 Statespace Model Results                                \n",
              "=========================================================================================\n",
              "Dep. Variable:                             sales   No. Observations:                   48\n",
              "Model:             SARIMAX(2, 1, 2)x(2, 1, 2, 4)   Log Likelihood                 -67.922\n",
              "Date:                           Tue, 27 Apr 2021   AIC                            153.845\n",
              "Time:                                   17:08:58   BIC                            169.696\n",
              "Sample:                               01-31-2013   HQIC                           159.690\n",
              "                                    - 12-31-2016                                         \n",
              "Covariance Type:                             opg                                         \n",
              "==============================================================================\n",
              "                 coef    std err          z      P>|z|      [0.025      0.975]\n",
              "------------------------------------------------------------------------------\n",
              "ar.L1          0.2764      1.286      0.215      0.830      -2.243       2.796\n",
              "ar.L2          0.5141      1.047      0.491      0.623      -1.537       2.566\n",
              "ma.L1         -0.2589      1.330     -0.195      0.846      -2.865       2.347\n",
              "ma.L2         -0.7159      1.139     -0.629      0.530      -2.948       1.516\n",
              "ar.S.L4       -1.0159      0.038    -26.410      0.000      -1.091      -0.941\n",
              "ar.S.L8       -0.9898      0.010    -96.266      0.000      -1.010      -0.970\n",
              "ma.S.L4        0.0066      0.424      0.016      0.988      -0.824       0.837\n",
              "ma.S.L8        0.0471      0.426      0.111      0.912      -0.788       0.882\n",
              "sigma2         0.6224      0.325      1.913      0.056      -0.015       1.260\n",
              "===================================================================================\n",
              "Ljung-Box (Q):                       34.81   Jarque-Bera (JB):                 0.54\n",
              "Prob(Q):                              0.70   Prob(JB):                         0.76\n",
              "Heteroskedasticity (H):               1.62   Skew:                            -0.27\n",
              "Prob(H) (two-sided):                  0.37   Kurtosis:                         3.05\n",
              "===================================================================================\n",
              "\n",
              "Warnings:\n",
              "[1] Covariance matrix calculated using the outer product of gradients (complex-step).\n",
              "\"\"\""
            ]
          },
          "metadata": {
            "tags": []
          },
          "execution_count": 35
        }
      ]
    },
    {
      "cell_type": "code",
      "metadata": {
        "id": "5_u3lGttuclR",
        "colab": {
          "base_uri": "https://localhost:8080/",
          "height": 405
        },
        "outputId": "f87ec306-6908-40fb-b088-939de460f3db"
      },
      "source": [
        "sar_pred= result_sarima.predict(start=48, end=59).rename('SARIMAX forecasting')\n",
        "train1['sales'].plot(figsize=(14,6), legend=True, color='orange')\n",
        "sar_pred.plot(figsize=(14,6), legend=True)"
      ],
      "execution_count": null,
      "outputs": [
        {
          "output_type": "execute_result",
          "data": {
            "text/plain": [
              "<matplotlib.axes._subplots.AxesSubplot at 0x7fe6be885990>"
            ]
          },
          "metadata": {
            "tags": []
          },
          "execution_count": 36
        },
        {
          "output_type": "display_data",
          "data": {
            "image/png": "[encoded data removed]",
            "text/plain": [
              "<Figure size 1008x432 with 1 Axes>"
            ]
          },
          "metadata": {
            "tags": [],
            "needs_background": "light"
          }
        }
      ]
    },
    {
      "cell_type": "code",
      "metadata": {
        "id": "WYVQxLVzuclR",
        "colab": {
          "base_uri": "https://localhost:8080/",
          "height": 204
        },
        "outputId": "dbc4ceda-b480-4c8d-bbcc-d1a2b81d5684"
      },
      "source": [
        "# creating data for 24 months\n",
        "from pandas.tseries.offsets import DateOffset\n",
        "future_dates= [train_monthly.index[-1] + DateOffset(months=x) for x in range(0,24)]\n",
        "future_data= pd.DataFrame(index=future_dates[1:],columns=train_monthly.columns)\n",
        "data_concat= pd.concat([train_monthly, future_data])\n",
        "data_concat.head()"
      ],
      "execution_count": null,
      "outputs": [
        {
          "output_type": "execute_result",
          "data": {
            "text/html": [
              "<div>\n",
              "<style scoped>\n",
              "    .dataframe tbody tr th:only-of-type {\n",
              "        vertical-align: middle;\n",
              "    }\n",
              "\n",
              "    .dataframe tbody tr th {\n",
              "        vertical-align: top;\n",
              "    }\n",
              "\n",
              "    .dataframe thead th {\n",
              "        text-align: right;\n",
              "    }\n",
              "</style>\n",
              "<table border=\"1\" class=\"dataframe\">\n",
              "  <thead>\n",
              "    <tr style=\"text-align: right;\">\n",
              "      <th></th>\n",
              "      <th>store</th>\n",
              "      <th>item</th>\n",
              "      <th>sales</th>\n",
              "      <th>month</th>\n",
              "      <th>year</th>\n",
              "      <th>day_of_month</th>\n",
              "      <th>day_of_week</th>\n",
              "      <th>day_of_year</th>\n",
              "      <th>week_of_year</th>\n",
              "      <th>is_weekend</th>\n",
              "      <th>is_startofmonth</th>\n",
              "      <th>is_endofmonth</th>\n",
              "    </tr>\n",
              "  </thead>\n",
              "  <tbody>\n",
              "    <tr>\n",
              "      <th>2013-01-31</th>\n",
              "      <td>5.3125</td>\n",
              "      <td>3.71875</td>\n",
              "      <td>21.095262</td>\n",
              "      <td>1.0</td>\n",
              "      <td>2013.0</td>\n",
              "      <td>16.0</td>\n",
              "      <td>3.903226</td>\n",
              "      <td>16.0</td>\n",
              "      <td>2.870968</td>\n",
              "      <td>0.387097</td>\n",
              "      <td>0.032258</td>\n",
              "      <td>0.032258</td>\n",
              "    </tr>\n",
              "    <tr>\n",
              "      <th>2013-02-28</th>\n",
              "      <td>5.3125</td>\n",
              "      <td>3.71875</td>\n",
              "      <td>23.887277</td>\n",
              "      <td>2.0</td>\n",
              "      <td>2013.0</td>\n",
              "      <td>14.5</td>\n",
              "      <td>4.000000</td>\n",
              "      <td>45.5</td>\n",
              "      <td>7.071429</td>\n",
              "      <td>0.428571</td>\n",
              "      <td>0.035714</td>\n",
              "      <td>0.035714</td>\n",
              "    </tr>\n",
              "    <tr>\n",
              "      <th>2013-03-31</th>\n",
              "      <td>5.3125</td>\n",
              "      <td>3.71875</td>\n",
              "      <td>28.798387</td>\n",
              "      <td>3.0</td>\n",
              "      <td>2013.0</td>\n",
              "      <td>16.0</td>\n",
              "      <td>4.193548</td>\n",
              "      <td>75.0</td>\n",
              "      <td>11.258065</td>\n",
              "      <td>0.483871</td>\n",
              "      <td>0.032258</td>\n",
              "      <td>0.032258</td>\n",
              "    </tr>\n",
              "    <tr>\n",
              "      <th>2013-04-30</th>\n",
              "      <td>5.3125</td>\n",
              "      <td>3.71875</td>\n",
              "      <td>32.766667</td>\n",
              "      <td>4.0</td>\n",
              "      <td>2013.0</td>\n",
              "      <td>15.5</td>\n",
              "      <td>3.833333</td>\n",
              "      <td>105.5</td>\n",
              "      <td>15.666667</td>\n",
              "      <td>0.400000</td>\n",
              "      <td>0.033333</td>\n",
              "      <td>0.033333</td>\n",
              "    </tr>\n",
              "    <tr>\n",
              "      <th>2013-05-31</th>\n",
              "      <td>5.3125</td>\n",
              "      <td>3.71875</td>\n",
              "      <td>35.595262</td>\n",
              "      <td>5.0</td>\n",
              "      <td>2013.0</td>\n",
              "      <td>16.0</td>\n",
              "      <td>4.000000</td>\n",
              "      <td>136.0</td>\n",
              "      <td>20.000000</td>\n",
              "      <td>0.419355</td>\n",
              "      <td>0.032258</td>\n",
              "      <td>0.032258</td>\n",
              "    </tr>\n",
              "  </tbody>\n",
              "</table>\n",
              "</div>"
            ],
            "text/plain": [
              "             store     item  ...  is_startofmonth  is_endofmonth\n",
              "2013-01-31  5.3125  3.71875  ...         0.032258       0.032258\n",
              "2013-02-28  5.3125  3.71875  ...         0.035714       0.035714\n",
              "2013-03-31  5.3125  3.71875  ...         0.032258       0.032258\n",
              "2013-04-30  5.3125  3.71875  ...         0.033333       0.033333\n",
              "2013-05-31  5.3125  3.71875  ...         0.032258       0.032258\n",
              "\n",
              "[5 rows x 12 columns]"
            ]
          },
          "metadata": {
            "tags": []
          },
          "execution_count": 37
        }
      ]
    },
    {
      "cell_type": "code",
      "metadata": {
        "id": "E6QCOuKPuclS",
        "colab": {
          "base_uri": "https://localhost:8080/",
          "height": 516
        },
        "outputId": "cd474837-9735-45d0-db34-2c15d4bd1176"
      },
      "source": [
        "data_concat['forecast_sarima']=result_sarima.predict(start=60, end=72)\n",
        "data_concat[['sales','forecast_sarima']].plot(figsize=(14,8), color=['orange','blue'])\n",
        "plt.title('Sales for next 12 months[SARIMAX]')"
      ],
      "execution_count": null,
      "outputs": [
        {
          "output_type": "execute_result",
          "data": {
            "text/plain": [
              "Text(0.5, 1.0, 'Sales for next 12 months[SARIMAX]')"
            ]
          },
          "metadata": {
            "tags": []
          },
          "execution_count": 38
        },
        {
          "output_type": "display_data",
          "data": {
            "image/png": "[encoded data removed]",
            "text/plain": [
              "<Figure size 1008x576 with 1 Axes>"
            ]
          },
          "metadata": {
            "tags": [],
            "needs_background": "light"
          }
        }
      ]
    },
    {
      "cell_type": "code",
      "metadata": {
        "id": "ywxOWfo0uclS",
        "colab": {
          "base_uri": "https://localhost:8080/"
        },
        "outputId": "d4484ce3-26f9-4b91-aecb-7ebdc8385b2e"
      },
      "source": [
        "from sklearn.metrics import mean_absolute_error, mean_squared_error\n",
        "error= mean_squared_error(test1.sales, sar_pred)\n",
        "error"
      ],
      "execution_count": null,
      "outputs": [
        {
          "output_type": "execute_result",
          "data": {
            "text/plain": [
              "1.7374438074610927"
            ]
          },
          "metadata": {
            "tags": []
          },
          "execution_count": 39
        }
      ]
    },
    {
      "cell_type": "markdown",
      "metadata": {
        "id": "chzX2BKruclS"
      },
      "source": [
        "### SARIMAX is performing better than ARIMA model"
      ]
    },
    {
      "cell_type": "markdown",
      "metadata": {
        "id": "Zwm7AOaIuclT"
      },
      "source": [
        ""
      ]
    },
    {
      "cell_type": "markdown",
      "metadata": {
        "id": "JDeOudjwuclT"
      },
      "source": [
        "## Using LGB"
      ]
    },
    {
      "cell_type": "code",
      "metadata": {
        "id": "Lw8VxE-QuclT",
        "colab": {
          "base_uri": "https://localhost:8080/"
        },
        "outputId": "7eb55699-01e3-41aa-f2a7-d5c965e72d9d"
      },
      "source": [
        "data.shape"
      ],
      "execution_count": null,
      "outputs": [
        {
          "output_type": "execute_result",
          "data": {
            "text/plain": [
              "(161006, 14)"
            ]
          },
          "metadata": {
            "tags": []
          },
          "execution_count": 40
        }
      ]
    },
    {
      "cell_type": "code",
      "metadata": {
        "id": "sfPEPjxFuclT"
      },
      "source": [
        "# Sort the values per store, item and date so that values would be shifted equally\n",
        "data.sort_values(by=['store','item', 'date'], inplace=True, axis=0)"
      ],
      "execution_count": null,
      "outputs": []
    },
    {
      "cell_type": "markdown",
      "metadata": {
        "id": "C5D6zpDuuclT"
      },
      "source": [
        "## Features creating from previous sales values"
      ]
    },
    {
      "cell_type": "code",
      "metadata": {
        "id": "sgR7lbxouclT"
      },
      "source": [
        "# Creating sales lag features\n",
        "def lag_features(dataframe, lags):\n",
        "    dataframe = dataframe.copy()\n",
        "    for lag in lags:\n",
        "        dataframe['sales_lag_' + str(lag)] = dataframe.groupby([\"store\", \"item\"])['sales'].transform(\n",
        "            lambda x: x.shift(lag)) + np.random.normal(size=(len(data),))\n",
        "    return dataframe"
      ],
      "execution_count": null,
      "outputs": []
    },
    {
      "cell_type": "code",
      "metadata": {
        "id": "Yibe0KYRuclU",
        "colab": {
          "base_uri": "https://localhost:8080/",
          "height": 309
        },
        "outputId": "6f6b0a37-040e-4b1c-8fc5-88499ae534d1"
      },
      "source": [
        "data= lag_features(data, lags=[91,98,105,112,119,126,182,364,546,728])\n",
        "data.tail()"
      ],
      "execution_count": null,
      "outputs": [
        {
          "output_type": "execute_result",
          "data": {
            "text/html": [
              "<div>\n",
              "<style scoped>\n",
              "    .dataframe tbody tr th:only-of-type {\n",
              "        vertical-align: middle;\n",
              "    }\n",
              "\n",
              "    .dataframe tbody tr th {\n",
              "        vertical-align: top;\n",
              "    }\n",
              "\n",
              "    .dataframe thead th {\n",
              "        text-align: right;\n",
              "    }\n",
              "</style>\n",
              "<table border=\"1\" class=\"dataframe\">\n",
              "  <thead>\n",
              "    <tr style=\"text-align: right;\">\n",
              "      <th></th>\n",
              "      <th>date</th>\n",
              "      <th>store</th>\n",
              "      <th>item</th>\n",
              "      <th>sales</th>\n",
              "      <th>id</th>\n",
              "      <th>sales_lag_91</th>\n",
              "      <th>sales_lag_98</th>\n",
              "      <th>sales_lag_105</th>\n",
              "      <th>sales_lag_112</th>\n",
              "      <th>sales_lag_119</th>\n",
              "      <th>sales_lag_126</th>\n",
              "      <th>sales_lag_182</th>\n",
              "      <th>sales_lag_364</th>\n",
              "      <th>sales_lag_546</th>\n",
              "      <th>sales_lag_728</th>\n",
              "      <th>sales_roll_mean_365</th>\n",
              "      <th>sales_roll_mean_546</th>\n",
              "      <th>sales_roll_median_365</th>\n",
              "      <th>sales_roll_median_546</th>\n",
              "      <th>sales_ewm_alpha_095_lag_1</th>\n",
              "      <th>sales_ewm_alpha_09_lag_1</th>\n",
              "      <th>sales_ewm_alpha_08_lag_1</th>\n",
              "      <th>sales_ewm_alpha_07_lag_1</th>\n",
              "      <th>sales_ewm_alpha_05_lag_1</th>\n",
              "      <th>sales_ewm_alpha_095_lag_91</th>\n",
              "      <th>sales_ewm_alpha_095_lag_98</th>\n",
              "      <th>sales_ewm_alpha_095_lag_105</th>\n",
              "      <th>sales_ewm_alpha_095_lag_112</th>\n",
              "      <th>sales_ewm_alpha_095_lag_119</th>\n",
              "      <th>sales_ewm_alpha_095_lag_126</th>\n",
              "      <th>sales_ewm_alpha_095_lag_182</th>\n",
              "      <th>sales_ewm_alpha_095_lag_364</th>\n",
              "      <th>sales_ewm_alpha_095_lag_546</th>\n",
              "      <th>sales_ewm_alpha_095_lag_728</th>\n",
              "      <th>sales_ewm_alpha_09_lag_91</th>\n",
              "      <th>sales_ewm_alpha_09_lag_98</th>\n",
              "      <th>sales_ewm_alpha_09_lag_105</th>\n",
              "      <th>sales_ewm_alpha_09_lag_112</th>\n",
              "      <th>sales_ewm_alpha_09_lag_119</th>\n",
              "      <th>sales_ewm_alpha_09_lag_126</th>\n",
              "      <th>sales_ewm_alpha_09_lag_182</th>\n",
              "      <th>sales_ewm_alpha_09_lag_364</th>\n",
              "      <th>sales_ewm_alpha_09_lag_546</th>\n",
              "      <th>sales_ewm_alpha_09_lag_728</th>\n",
              "      <th>sales_ewm_alpha_08_lag_91</th>\n",
              "      <th>sales_ewm_alpha_08_lag_98</th>\n",
              "      <th>sales_ewm_alpha_08_lag_105</th>\n",
              "      <th>sales_ewm_alpha_08_lag_112</th>\n",
              "      <th>sales_ewm_alpha_08_lag_119</th>\n",
              "      <th>sales_ewm_alpha_08_lag_126</th>\n",
              "      <th>sales_ewm_alpha_08_lag_182</th>\n",
              "      <th>sales_ewm_alpha_08_lag_364</th>\n",
              "      <th>sales_ewm_alpha_08_lag_546</th>\n",
              "      <th>sales_ewm_alpha_08_lag_728</th>\n",
              "      <th>sales_ewm_alpha_07_lag_91</th>\n",
              "      <th>sales_ewm_alpha_07_lag_98</th>\n",
              "      <th>sales_ewm_alpha_07_lag_105</th>\n",
              "      <th>sales_ewm_alpha_07_lag_112</th>\n",
              "      <th>sales_ewm_alpha_07_lag_119</th>\n",
              "      <th>sales_ewm_alpha_07_lag_126</th>\n",
              "      <th>sales_ewm_alpha_07_lag_182</th>\n",
              "      <th>sales_ewm_alpha_07_lag_364</th>\n",
              "      <th>sales_ewm_alpha_07_lag_546</th>\n",
              "      <th>sales_ewm_alpha_07_lag_728</th>\n",
              "      <th>sales_ewm_alpha_05_lag_91</th>\n",
              "      <th>sales_ewm_alpha_05_lag_98</th>\n",
              "      <th>sales_ewm_alpha_05_lag_105</th>\n",
              "      <th>sales_ewm_alpha_05_lag_112</th>\n",
              "      <th>sales_ewm_alpha_05_lag_119</th>\n",
              "      <th>sales_ewm_alpha_05_lag_126</th>\n",
              "      <th>sales_ewm_alpha_05_lag_182</th>\n",
              "      <th>sales_ewm_alpha_05_lag_364</th>\n",
              "      <th>sales_ewm_alpha_05_lag_546</th>\n",
              "      <th>sales_ewm_alpha_05_lag_728</th>\n",
              "    </tr>\n",
              "  </thead>\n",
              "  <tbody>\n",
              "    <tr>\n",
              "      <th>44995</th>\n",
              "      <td>2018-03-27</td>\n",
              "      <td>10</td>\n",
              "      <td>50</td>\n",
              "      <td>NaN</td>\n",
              "      <td>44995.0</td>\n",
              "      <td>NaN</td>\n",
              "      <td>NaN</td>\n",
              "      <td>NaN</td>\n",
              "      <td>NaN</td>\n",
              "      <td>NaN</td>\n",
              "      <td>NaN</td>\n",
              "      <td>NaN</td>\n",
              "      <td>NaN</td>\n",
              "      <td>NaN</td>\n",
              "      <td>NaN</td>\n",
              "      <td>NaN</td>\n",
              "      <td>NaN</td>\n",
              "      <td>NaN</td>\n",
              "      <td>NaN</td>\n",
              "      <td>NaN</td>\n",
              "      <td>NaN</td>\n",
              "      <td>NaN</td>\n",
              "      <td>NaN</td>\n",
              "      <td>NaN</td>\n",
              "      <td>NaN</td>\n",
              "      <td>NaN</td>\n",
              "      <td>NaN</td>\n",
              "      <td>NaN</td>\n",
              "      <td>NaN</td>\n",
              "      <td>NaN</td>\n",
              "      <td>NaN</td>\n",
              "      <td>NaN</td>\n",
              "      <td>NaN</td>\n",
              "      <td>NaN</td>\n",
              "      <td>NaN</td>\n",
              "      <td>NaN</td>\n",
              "      <td>NaN</td>\n",
              "      <td>NaN</td>\n",
              "      <td>NaN</td>\n",
              "      <td>NaN</td>\n",
              "      <td>NaN</td>\n",
              "      <td>NaN</td>\n",
              "      <td>NaN</td>\n",
              "      <td>NaN</td>\n",
              "      <td>NaN</td>\n",
              "      <td>NaN</td>\n",
              "      <td>NaN</td>\n",
              "      <td>NaN</td>\n",
              "      <td>NaN</td>\n",
              "      <td>NaN</td>\n",
              "      <td>NaN</td>\n",
              "      <td>NaN</td>\n",
              "      <td>NaN</td>\n",
              "      <td>NaN</td>\n",
              "      <td>NaN</td>\n",
              "      <td>NaN</td>\n",
              "      <td>NaN</td>\n",
              "      <td>NaN</td>\n",
              "      <td>NaN</td>\n",
              "      <td>NaN</td>\n",
              "      <td>NaN</td>\n",
              "      <td>NaN</td>\n",
              "      <td>NaN</td>\n",
              "      <td>NaN</td>\n",
              "      <td>NaN</td>\n",
              "      <td>NaN</td>\n",
              "      <td>NaN</td>\n",
              "      <td>NaN</td>\n",
              "      <td>NaN</td>\n",
              "      <td>NaN</td>\n",
              "      <td>NaN</td>\n",
              "      <td>NaN</td>\n",
              "      <td>NaN</td>\n",
              "      <td>NaN</td>\n",
              "    </tr>\n",
              "    <tr>\n",
              "      <th>44996</th>\n",
              "      <td>2018-03-28</td>\n",
              "      <td>10</td>\n",
              "      <td>50</td>\n",
              "      <td>NaN</td>\n",
              "      <td>44996.0</td>\n",
              "      <td>NaN</td>\n",
              "      <td>NaN</td>\n",
              "      <td>NaN</td>\n",
              "      <td>NaN</td>\n",
              "      <td>NaN</td>\n",
              "      <td>NaN</td>\n",
              "      <td>NaN</td>\n",
              "      <td>NaN</td>\n",
              "      <td>NaN</td>\n",
              "      <td>NaN</td>\n",
              "      <td>NaN</td>\n",
              "      <td>NaN</td>\n",
              "      <td>NaN</td>\n",
              "      <td>NaN</td>\n",
              "      <td>NaN</td>\n",
              "      <td>NaN</td>\n",
              "      <td>NaN</td>\n",
              "      <td>NaN</td>\n",
              "      <td>NaN</td>\n",
              "      <td>NaN</td>\n",
              "      <td>NaN</td>\n",
              "      <td>NaN</td>\n",
              "      <td>NaN</td>\n",
              "      <td>NaN</td>\n",
              "      <td>NaN</td>\n",
              "      <td>NaN</td>\n",
              "      <td>NaN</td>\n",
              "      <td>NaN</td>\n",
              "      <td>NaN</td>\n",
              "      <td>NaN</td>\n",
              "      <td>NaN</td>\n",
              "      <td>NaN</td>\n",
              "      <td>NaN</td>\n",
              "      <td>NaN</td>\n",
              "      <td>NaN</td>\n",
              "      <td>NaN</td>\n",
              "      <td>NaN</td>\n",
              "      <td>NaN</td>\n",
              "      <td>NaN</td>\n",
              "      <td>NaN</td>\n",
              "      <td>NaN</td>\n",
              "      <td>NaN</td>\n",
              "      <td>NaN</td>\n",
              "      <td>NaN</td>\n",
              "      <td>NaN</td>\n",
              "      <td>NaN</td>\n",
              "      <td>NaN</td>\n",
              "      <td>NaN</td>\n",
              "      <td>NaN</td>\n",
              "      <td>NaN</td>\n",
              "      <td>NaN</td>\n",
              "      <td>NaN</td>\n",
              "      <td>NaN</td>\n",
              "      <td>NaN</td>\n",
              "      <td>NaN</td>\n",
              "      <td>NaN</td>\n",
              "      <td>NaN</td>\n",
              "      <td>NaN</td>\n",
              "      <td>NaN</td>\n",
              "      <td>NaN</td>\n",
              "      <td>NaN</td>\n",
              "      <td>NaN</td>\n",
              "      <td>NaN</td>\n",
              "      <td>NaN</td>\n",
              "      <td>NaN</td>\n",
              "      <td>NaN</td>\n",
              "      <td>NaN</td>\n",
              "      <td>NaN</td>\n",
              "      <td>NaN</td>\n",
              "    </tr>\n",
              "    <tr>\n",
              "      <th>44997</th>\n",
              "      <td>2018-03-29</td>\n",
              "      <td>10</td>\n",
              "      <td>50</td>\n",
              "      <td>NaN</td>\n",
              "      <td>44997.0</td>\n",
              "      <td>NaN</td>\n",
              "      <td>NaN</td>\n",
              "      <td>NaN</td>\n",
              "      <td>NaN</td>\n",
              "      <td>NaN</td>\n",
              "      <td>NaN</td>\n",
              "      <td>NaN</td>\n",
              "      <td>NaN</td>\n",
              "      <td>NaN</td>\n",
              "      <td>NaN</td>\n",
              "      <td>NaN</td>\n",
              "      <td>NaN</td>\n",
              "      <td>NaN</td>\n",
              "      <td>NaN</td>\n",
              "      <td>NaN</td>\n",
              "      <td>NaN</td>\n",
              "      <td>NaN</td>\n",
              "      <td>NaN</td>\n",
              "      <td>NaN</td>\n",
              "      <td>NaN</td>\n",
              "      <td>NaN</td>\n",
              "      <td>NaN</td>\n",
              "      <td>NaN</td>\n",
              "      <td>NaN</td>\n",
              "      <td>NaN</td>\n",
              "      <td>NaN</td>\n",
              "      <td>NaN</td>\n",
              "      <td>NaN</td>\n",
              "      <td>NaN</td>\n",
              "      <td>NaN</td>\n",
              "      <td>NaN</td>\n",
              "      <td>NaN</td>\n",
              "      <td>NaN</td>\n",
              "      <td>NaN</td>\n",
              "      <td>NaN</td>\n",
              "      <td>NaN</td>\n",
              "      <td>NaN</td>\n",
              "      <td>NaN</td>\n",
              "      <td>NaN</td>\n",
              "      <td>NaN</td>\n",
              "      <td>NaN</td>\n",
              "      <td>NaN</td>\n",
              "      <td>NaN</td>\n",
              "      <td>NaN</td>\n",
              "      <td>NaN</td>\n",
              "      <td>NaN</td>\n",
              "      <td>NaN</td>\n",
              "      <td>NaN</td>\n",
              "      <td>NaN</td>\n",
              "      <td>NaN</td>\n",
              "      <td>NaN</td>\n",
              "      <td>NaN</td>\n",
              "      <td>NaN</td>\n",
              "      <td>NaN</td>\n",
              "      <td>NaN</td>\n",
              "      <td>NaN</td>\n",
              "      <td>NaN</td>\n",
              "      <td>NaN</td>\n",
              "      <td>NaN</td>\n",
              "      <td>NaN</td>\n",
              "      <td>NaN</td>\n",
              "      <td>NaN</td>\n",
              "      <td>NaN</td>\n",
              "      <td>NaN</td>\n",
              "      <td>NaN</td>\n",
              "      <td>NaN</td>\n",
              "      <td>NaN</td>\n",
              "      <td>NaN</td>\n",
              "      <td>NaN</td>\n",
              "    </tr>\n",
              "    <tr>\n",
              "      <th>44998</th>\n",
              "      <td>2018-03-30</td>\n",
              "      <td>10</td>\n",
              "      <td>50</td>\n",
              "      <td>NaN</td>\n",
              "      <td>44998.0</td>\n",
              "      <td>NaN</td>\n",
              "      <td>NaN</td>\n",
              "      <td>NaN</td>\n",
              "      <td>NaN</td>\n",
              "      <td>NaN</td>\n",
              "      <td>NaN</td>\n",
              "      <td>NaN</td>\n",
              "      <td>NaN</td>\n",
              "      <td>NaN</td>\n",
              "      <td>NaN</td>\n",
              "      <td>NaN</td>\n",
              "      <td>NaN</td>\n",
              "      <td>NaN</td>\n",
              "      <td>NaN</td>\n",
              "      <td>NaN</td>\n",
              "      <td>NaN</td>\n",
              "      <td>NaN</td>\n",
              "      <td>NaN</td>\n",
              "      <td>NaN</td>\n",
              "      <td>NaN</td>\n",
              "      <td>NaN</td>\n",
              "      <td>NaN</td>\n",
              "      <td>NaN</td>\n",
              "      <td>NaN</td>\n",
              "      <td>NaN</td>\n",
              "      <td>NaN</td>\n",
              "      <td>NaN</td>\n",
              "      <td>NaN</td>\n",
              "      <td>NaN</td>\n",
              "      <td>NaN</td>\n",
              "      <td>NaN</td>\n",
              "      <td>NaN</td>\n",
              "      <td>NaN</td>\n",
              "      <td>NaN</td>\n",
              "      <td>NaN</td>\n",
              "      <td>NaN</td>\n",
              "      <td>NaN</td>\n",
              "      <td>NaN</td>\n",
              "      <td>NaN</td>\n",
              "      <td>NaN</td>\n",
              "      <td>NaN</td>\n",
              "      <td>NaN</td>\n",
              "      <td>NaN</td>\n",
              "      <td>NaN</td>\n",
              "      <td>NaN</td>\n",
              "      <td>NaN</td>\n",
              "      <td>NaN</td>\n",
              "      <td>NaN</td>\n",
              "      <td>NaN</td>\n",
              "      <td>NaN</td>\n",
              "      <td>NaN</td>\n",
              "      <td>NaN</td>\n",
              "      <td>NaN</td>\n",
              "      <td>NaN</td>\n",
              "      <td>NaN</td>\n",
              "      <td>NaN</td>\n",
              "      <td>NaN</td>\n",
              "      <td>NaN</td>\n",
              "      <td>NaN</td>\n",
              "      <td>NaN</td>\n",
              "      <td>NaN</td>\n",
              "      <td>NaN</td>\n",
              "      <td>NaN</td>\n",
              "      <td>NaN</td>\n",
              "      <td>NaN</td>\n",
              "      <td>NaN</td>\n",
              "      <td>NaN</td>\n",
              "      <td>NaN</td>\n",
              "      <td>NaN</td>\n",
              "    </tr>\n",
              "    <tr>\n",
              "      <th>44999</th>\n",
              "      <td>2018-03-31</td>\n",
              "      <td>10</td>\n",
              "      <td>50</td>\n",
              "      <td>NaN</td>\n",
              "      <td>44999.0</td>\n",
              "      <td>NaN</td>\n",
              "      <td>NaN</td>\n",
              "      <td>NaN</td>\n",
              "      <td>NaN</td>\n",
              "      <td>NaN</td>\n",
              "      <td>NaN</td>\n",
              "      <td>NaN</td>\n",
              "      <td>NaN</td>\n",
              "      <td>NaN</td>\n",
              "      <td>NaN</td>\n",
              "      <td>NaN</td>\n",
              "      <td>NaN</td>\n",
              "      <td>NaN</td>\n",
              "      <td>NaN</td>\n",
              "      <td>NaN</td>\n",
              "      <td>NaN</td>\n",
              "      <td>NaN</td>\n",
              "      <td>NaN</td>\n",
              "      <td>NaN</td>\n",
              "      <td>NaN</td>\n",
              "      <td>NaN</td>\n",
              "      <td>NaN</td>\n",
              "      <td>NaN</td>\n",
              "      <td>NaN</td>\n",
              "      <td>NaN</td>\n",
              "      <td>NaN</td>\n",
              "      <td>NaN</td>\n",
              "      <td>NaN</td>\n",
              "      <td>NaN</td>\n",
              "      <td>NaN</td>\n",
              "      <td>NaN</td>\n",
              "      <td>NaN</td>\n",
              "      <td>NaN</td>\n",
              "      <td>NaN</td>\n",
              "      <td>NaN</td>\n",
              "      <td>NaN</td>\n",
              "      <td>NaN</td>\n",
              "      <td>NaN</td>\n",
              "      <td>NaN</td>\n",
              "      <td>NaN</td>\n",
              "      <td>NaN</td>\n",
              "      <td>NaN</td>\n",
              "      <td>NaN</td>\n",
              "      <td>NaN</td>\n",
              "      <td>NaN</td>\n",
              "      <td>NaN</td>\n",
              "      <td>NaN</td>\n",
              "      <td>NaN</td>\n",
              "      <td>NaN</td>\n",
              "      <td>NaN</td>\n",
              "      <td>NaN</td>\n",
              "      <td>NaN</td>\n",
              "      <td>NaN</td>\n",
              "      <td>NaN</td>\n",
              "      <td>NaN</td>\n",
              "      <td>NaN</td>\n",
              "      <td>NaN</td>\n",
              "      <td>NaN</td>\n",
              "      <td>NaN</td>\n",
              "      <td>NaN</td>\n",
              "      <td>NaN</td>\n",
              "      <td>NaN</td>\n",
              "      <td>NaN</td>\n",
              "      <td>NaN</td>\n",
              "      <td>NaN</td>\n",
              "      <td>NaN</td>\n",
              "      <td>NaN</td>\n",
              "      <td>NaN</td>\n",
              "      <td>NaN</td>\n",
              "    </tr>\n",
              "  </tbody>\n",
              "</table>\n",
              "</div>"
            ],
            "text/plain": [
              "            date  store  ...  sales_ewm_alpha_05_lag_546  sales_ewm_alpha_05_lag_728\n",
              "44995 2018-03-27     10  ...                         NaN                         NaN\n",
              "44996 2018-03-28     10  ...                         NaN                         NaN\n",
              "44997 2018-03-29     10  ...                         NaN                         NaN\n",
              "44998 2018-03-30     10  ...                         NaN                         NaN\n",
              "44999 2018-03-31     10  ...                         NaN                         NaN\n",
              "\n",
              "[5 rows x 74 columns]"
            ]
          },
          "metadata": {
            "tags": []
          },
          "execution_count": 103
        }
      ]
    },
    {
      "cell_type": "markdown",
      "metadata": {
        "id": "RvujtKH0uclU"
      },
      "source": [
        "In order to find out possible seasonalities, I will be creating moving averages for specified time intervals. In order to eliminate today's affect on moving average values, I will take 1 shift"
      ]
    },
    {
      "cell_type": "code",
      "metadata": {
        "id": "Myy26ybyuclU"
      },
      "source": [
        "# Creating sales rolling mean features\n",
        "def roll_mean_features(df, windows):\n",
        "    df = df.copy()\n",
        "    for window in windows:\n",
        "        df['sales_roll_mean_' + str(window)] = df.groupby([\"store\", \"item\"])['sales'].transform(\n",
        "            lambda x: x.shift(1).rolling(window=window, min_periods=10, win_type=None).mean()) \n",
        "        +np.random.normal(size=(len(data),))\n",
        "    return df"
      ],
      "execution_count": null,
      "outputs": []
    },
    {
      "cell_type": "code",
      "metadata": {
        "id": "vNl7z6ybuclU"
      },
      "source": [
        "data= roll_mean_features(data, windows=[365,546])"
      ],
      "execution_count": null,
      "outputs": []
    },
    {
      "cell_type": "code",
      "metadata": {
        "id": "ji4mgo0juclV"
      },
      "source": [
        "# Creating sales rolling median features\n",
        "def roll_median_features(df, windows):\n",
        "    df = df.copy()\n",
        "    for window in windows:\n",
        "        df['sales_roll_median_' + str(window)] = df.groupby([\"store\", \"item\"])['sales'].transform(\n",
        "            lambda x: x.shift(1).rolling(window=window, min_periods=10, win_type=None).median())\n",
        "        +np.random.normal(size=(len(data),))\n",
        "    return df"
      ],
      "execution_count": null,
      "outputs": []
    },
    {
      "cell_type": "code",
      "metadata": {
        "id": "qneyiI-VuclV"
      },
      "source": [
        "data= roll_median_features(data,windows=[365,546])"
      ],
      "execution_count": null,
      "outputs": []
    },
    {
      "cell_type": "markdown",
      "metadata": {
        "id": "6hnhtAmsuclV"
      },
      "source": [
        "The value in time t highly depends on the value in time t-1, so in order to have a better prediction, while computing the average value, the values should not be equally weighted."
      ]
    },
    {
      "cell_type": "code",
      "metadata": {
        "id": "JLy6vwfIuclV"
      },
      "source": [
        "# creating sales exponentially weighed mean features\n",
        "def ewm_features(dataframe, alphas, lags):\n",
        "    dataframe = dataframe.copy()\n",
        "    for alpha in alphas:\n",
        "        for lag in lags:\n",
        "            dataframe['sales_ewm_alpha_' + str(alpha).replace(\".\", \"\") + \"_lag_\" + str(lag)] = \\\n",
        "                dataframe.groupby([\"store\", \"item\"])['sales']. \\\n",
        "                    transform(lambda x: x.shift(lag).ewm(alpha=alpha).mean())\n",
        "    return dataframe"
      ],
      "execution_count": null,
      "outputs": []
    },
    {
      "cell_type": "code",
      "metadata": {
        "id": "B4RynpOLuclW"
      },
      "source": [
        "data= ewm_features(data, alphas = [0.95, 0.9, 0.8, 0.7, 0.5], lags=[91,98,105,112,119,126,182,364,546,728])"
      ],
      "execution_count": null,
      "outputs": []
    },
    {
      "cell_type": "code",
      "metadata": {
        "id": "MXgKB6sTuclW",
        "colab": {
          "base_uri": "https://localhost:8080/"
        },
        "outputId": "0c2c5c04-409d-4991-a5da-f8a27bae5482"
      },
      "source": [
        "data.shape"
      ],
      "execution_count": null,
      "outputs": [
        {
          "output_type": "execute_result",
          "data": {
            "text/plain": [
              "(161006, 74)"
            ]
          },
          "metadata": {
            "tags": []
          },
          "execution_count": 96
        }
      ]
    },
    {
      "cell_type": "code",
      "metadata": {
        "colab": {
          "base_uri": "https://localhost:8080/",
          "height": 309
        },
        "id": "5Qa6Wq4lRxSk",
        "outputId": "7c57d735-3e8a-4ce8-dc27-96bdfcc535dd"
      },
      "source": [
        "data.tail()"
      ],
      "execution_count": null,
      "outputs": [
        {
          "output_type": "execute_result",
          "data": {
            "text/html": [
              "<div>\n",
              "<style scoped>\n",
              "    .dataframe tbody tr th:only-of-type {\n",
              "        vertical-align: middle;\n",
              "    }\n",
              "\n",
              "    .dataframe tbody tr th {\n",
              "        vertical-align: top;\n",
              "    }\n",
              "\n",
              "    .dataframe thead th {\n",
              "        text-align: right;\n",
              "    }\n",
              "</style>\n",
              "<table border=\"1\" class=\"dataframe\">\n",
              "  <thead>\n",
              "    <tr style=\"text-align: right;\">\n",
              "      <th></th>\n",
              "      <th>date</th>\n",
              "      <th>store</th>\n",
              "      <th>item</th>\n",
              "      <th>sales</th>\n",
              "      <th>id</th>\n",
              "      <th>sales_lag_91</th>\n",
              "      <th>sales_lag_98</th>\n",
              "      <th>sales_lag_105</th>\n",
              "      <th>sales_lag_112</th>\n",
              "      <th>sales_lag_119</th>\n",
              "      <th>sales_lag_126</th>\n",
              "      <th>sales_lag_182</th>\n",
              "      <th>sales_lag_364</th>\n",
              "      <th>sales_lag_546</th>\n",
              "      <th>sales_lag_728</th>\n",
              "      <th>sales_roll_mean_365</th>\n",
              "      <th>sales_roll_mean_546</th>\n",
              "      <th>sales_roll_median_365</th>\n",
              "      <th>sales_roll_median_546</th>\n",
              "      <th>sales_ewm_alpha_095_lag_1</th>\n",
              "      <th>sales_ewm_alpha_09_lag_1</th>\n",
              "      <th>sales_ewm_alpha_08_lag_1</th>\n",
              "      <th>sales_ewm_alpha_07_lag_1</th>\n",
              "      <th>sales_ewm_alpha_05_lag_1</th>\n",
              "      <th>sales_ewm_alpha_095_lag_91</th>\n",
              "      <th>sales_ewm_alpha_095_lag_98</th>\n",
              "      <th>sales_ewm_alpha_095_lag_105</th>\n",
              "      <th>sales_ewm_alpha_095_lag_112</th>\n",
              "      <th>sales_ewm_alpha_095_lag_119</th>\n",
              "      <th>sales_ewm_alpha_095_lag_126</th>\n",
              "      <th>sales_ewm_alpha_095_lag_182</th>\n",
              "      <th>sales_ewm_alpha_095_lag_364</th>\n",
              "      <th>sales_ewm_alpha_095_lag_546</th>\n",
              "      <th>sales_ewm_alpha_095_lag_728</th>\n",
              "      <th>sales_ewm_alpha_09_lag_91</th>\n",
              "      <th>sales_ewm_alpha_09_lag_98</th>\n",
              "      <th>sales_ewm_alpha_09_lag_105</th>\n",
              "      <th>sales_ewm_alpha_09_lag_112</th>\n",
              "      <th>sales_ewm_alpha_09_lag_119</th>\n",
              "      <th>sales_ewm_alpha_09_lag_126</th>\n",
              "      <th>sales_ewm_alpha_09_lag_182</th>\n",
              "      <th>sales_ewm_alpha_09_lag_364</th>\n",
              "      <th>sales_ewm_alpha_09_lag_546</th>\n",
              "      <th>sales_ewm_alpha_09_lag_728</th>\n",
              "      <th>sales_ewm_alpha_08_lag_91</th>\n",
              "      <th>sales_ewm_alpha_08_lag_98</th>\n",
              "      <th>sales_ewm_alpha_08_lag_105</th>\n",
              "      <th>sales_ewm_alpha_08_lag_112</th>\n",
              "      <th>sales_ewm_alpha_08_lag_119</th>\n",
              "      <th>sales_ewm_alpha_08_lag_126</th>\n",
              "      <th>sales_ewm_alpha_08_lag_182</th>\n",
              "      <th>sales_ewm_alpha_08_lag_364</th>\n",
              "      <th>sales_ewm_alpha_08_lag_546</th>\n",
              "      <th>sales_ewm_alpha_08_lag_728</th>\n",
              "      <th>sales_ewm_alpha_07_lag_91</th>\n",
              "      <th>sales_ewm_alpha_07_lag_98</th>\n",
              "      <th>sales_ewm_alpha_07_lag_105</th>\n",
              "      <th>sales_ewm_alpha_07_lag_112</th>\n",
              "      <th>sales_ewm_alpha_07_lag_119</th>\n",
              "      <th>sales_ewm_alpha_07_lag_126</th>\n",
              "      <th>sales_ewm_alpha_07_lag_182</th>\n",
              "      <th>sales_ewm_alpha_07_lag_364</th>\n",
              "      <th>sales_ewm_alpha_07_lag_546</th>\n",
              "      <th>sales_ewm_alpha_07_lag_728</th>\n",
              "      <th>sales_ewm_alpha_05_lag_91</th>\n",
              "      <th>sales_ewm_alpha_05_lag_98</th>\n",
              "      <th>sales_ewm_alpha_05_lag_105</th>\n",
              "      <th>sales_ewm_alpha_05_lag_112</th>\n",
              "      <th>sales_ewm_alpha_05_lag_119</th>\n",
              "      <th>sales_ewm_alpha_05_lag_126</th>\n",
              "      <th>sales_ewm_alpha_05_lag_182</th>\n",
              "      <th>sales_ewm_alpha_05_lag_364</th>\n",
              "      <th>sales_ewm_alpha_05_lag_546</th>\n",
              "      <th>sales_ewm_alpha_05_lag_728</th>\n",
              "    </tr>\n",
              "  </thead>\n",
              "  <tbody>\n",
              "    <tr>\n",
              "      <th>44995</th>\n",
              "      <td>2018-03-27</td>\n",
              "      <td>10</td>\n",
              "      <td>50</td>\n",
              "      <td>NaN</td>\n",
              "      <td>44995.0</td>\n",
              "      <td>NaN</td>\n",
              "      <td>NaN</td>\n",
              "      <td>NaN</td>\n",
              "      <td>NaN</td>\n",
              "      <td>NaN</td>\n",
              "      <td>NaN</td>\n",
              "      <td>NaN</td>\n",
              "      <td>NaN</td>\n",
              "      <td>NaN</td>\n",
              "      <td>NaN</td>\n",
              "      <td>NaN</td>\n",
              "      <td>NaN</td>\n",
              "      <td>NaN</td>\n",
              "      <td>NaN</td>\n",
              "      <td>NaN</td>\n",
              "      <td>NaN</td>\n",
              "      <td>NaN</td>\n",
              "      <td>NaN</td>\n",
              "      <td>NaN</td>\n",
              "      <td>NaN</td>\n",
              "      <td>NaN</td>\n",
              "      <td>NaN</td>\n",
              "      <td>NaN</td>\n",
              "      <td>NaN</td>\n",
              "      <td>NaN</td>\n",
              "      <td>NaN</td>\n",
              "      <td>NaN</td>\n",
              "      <td>NaN</td>\n",
              "      <td>NaN</td>\n",
              "      <td>NaN</td>\n",
              "      <td>NaN</td>\n",
              "      <td>NaN</td>\n",
              "      <td>NaN</td>\n",
              "      <td>NaN</td>\n",
              "      <td>NaN</td>\n",
              "      <td>NaN</td>\n",
              "      <td>NaN</td>\n",
              "      <td>NaN</td>\n",
              "      <td>NaN</td>\n",
              "      <td>NaN</td>\n",
              "      <td>NaN</td>\n",
              "      <td>NaN</td>\n",
              "      <td>NaN</td>\n",
              "      <td>NaN</td>\n",
              "      <td>NaN</td>\n",
              "      <td>NaN</td>\n",
              "      <td>NaN</td>\n",
              "      <td>NaN</td>\n",
              "      <td>NaN</td>\n",
              "      <td>NaN</td>\n",
              "      <td>NaN</td>\n",
              "      <td>NaN</td>\n",
              "      <td>NaN</td>\n",
              "      <td>NaN</td>\n",
              "      <td>NaN</td>\n",
              "      <td>NaN</td>\n",
              "      <td>NaN</td>\n",
              "      <td>NaN</td>\n",
              "      <td>NaN</td>\n",
              "      <td>NaN</td>\n",
              "      <td>NaN</td>\n",
              "      <td>NaN</td>\n",
              "      <td>NaN</td>\n",
              "      <td>NaN</td>\n",
              "      <td>NaN</td>\n",
              "      <td>NaN</td>\n",
              "      <td>NaN</td>\n",
              "      <td>NaN</td>\n",
              "      <td>NaN</td>\n",
              "    </tr>\n",
              "    <tr>\n",
              "      <th>44996</th>\n",
              "      <td>2018-03-28</td>\n",
              "      <td>10</td>\n",
              "      <td>50</td>\n",
              "      <td>NaN</td>\n",
              "      <td>44996.0</td>\n",
              "      <td>NaN</td>\n",
              "      <td>NaN</td>\n",
              "      <td>NaN</td>\n",
              "      <td>NaN</td>\n",
              "      <td>NaN</td>\n",
              "      <td>NaN</td>\n",
              "      <td>NaN</td>\n",
              "      <td>NaN</td>\n",
              "      <td>NaN</td>\n",
              "      <td>NaN</td>\n",
              "      <td>NaN</td>\n",
              "      <td>NaN</td>\n",
              "      <td>NaN</td>\n",
              "      <td>NaN</td>\n",
              "      <td>NaN</td>\n",
              "      <td>NaN</td>\n",
              "      <td>NaN</td>\n",
              "      <td>NaN</td>\n",
              "      <td>NaN</td>\n",
              "      <td>NaN</td>\n",
              "      <td>NaN</td>\n",
              "      <td>NaN</td>\n",
              "      <td>NaN</td>\n",
              "      <td>NaN</td>\n",
              "      <td>NaN</td>\n",
              "      <td>NaN</td>\n",
              "      <td>NaN</td>\n",
              "      <td>NaN</td>\n",
              "      <td>NaN</td>\n",
              "      <td>NaN</td>\n",
              "      <td>NaN</td>\n",
              "      <td>NaN</td>\n",
              "      <td>NaN</td>\n",
              "      <td>NaN</td>\n",
              "      <td>NaN</td>\n",
              "      <td>NaN</td>\n",
              "      <td>NaN</td>\n",
              "      <td>NaN</td>\n",
              "      <td>NaN</td>\n",
              "      <td>NaN</td>\n",
              "      <td>NaN</td>\n",
              "      <td>NaN</td>\n",
              "      <td>NaN</td>\n",
              "      <td>NaN</td>\n",
              "      <td>NaN</td>\n",
              "      <td>NaN</td>\n",
              "      <td>NaN</td>\n",
              "      <td>NaN</td>\n",
              "      <td>NaN</td>\n",
              "      <td>NaN</td>\n",
              "      <td>NaN</td>\n",
              "      <td>NaN</td>\n",
              "      <td>NaN</td>\n",
              "      <td>NaN</td>\n",
              "      <td>NaN</td>\n",
              "      <td>NaN</td>\n",
              "      <td>NaN</td>\n",
              "      <td>NaN</td>\n",
              "      <td>NaN</td>\n",
              "      <td>NaN</td>\n",
              "      <td>NaN</td>\n",
              "      <td>NaN</td>\n",
              "      <td>NaN</td>\n",
              "      <td>NaN</td>\n",
              "      <td>NaN</td>\n",
              "      <td>NaN</td>\n",
              "      <td>NaN</td>\n",
              "      <td>NaN</td>\n",
              "      <td>NaN</td>\n",
              "    </tr>\n",
              "    <tr>\n",
              "      <th>44997</th>\n",
              "      <td>2018-03-29</td>\n",
              "      <td>10</td>\n",
              "      <td>50</td>\n",
              "      <td>NaN</td>\n",
              "      <td>44997.0</td>\n",
              "      <td>NaN</td>\n",
              "      <td>NaN</td>\n",
              "      <td>NaN</td>\n",
              "      <td>NaN</td>\n",
              "      <td>NaN</td>\n",
              "      <td>NaN</td>\n",
              "      <td>NaN</td>\n",
              "      <td>NaN</td>\n",
              "      <td>NaN</td>\n",
              "      <td>NaN</td>\n",
              "      <td>NaN</td>\n",
              "      <td>NaN</td>\n",
              "      <td>NaN</td>\n",
              "      <td>NaN</td>\n",
              "      <td>NaN</td>\n",
              "      <td>NaN</td>\n",
              "      <td>NaN</td>\n",
              "      <td>NaN</td>\n",
              "      <td>NaN</td>\n",
              "      <td>NaN</td>\n",
              "      <td>NaN</td>\n",
              "      <td>NaN</td>\n",
              "      <td>NaN</td>\n",
              "      <td>NaN</td>\n",
              "      <td>NaN</td>\n",
              "      <td>NaN</td>\n",
              "      <td>NaN</td>\n",
              "      <td>NaN</td>\n",
              "      <td>NaN</td>\n",
              "      <td>NaN</td>\n",
              "      <td>NaN</td>\n",
              "      <td>NaN</td>\n",
              "      <td>NaN</td>\n",
              "      <td>NaN</td>\n",
              "      <td>NaN</td>\n",
              "      <td>NaN</td>\n",
              "      <td>NaN</td>\n",
              "      <td>NaN</td>\n",
              "      <td>NaN</td>\n",
              "      <td>NaN</td>\n",
              "      <td>NaN</td>\n",
              "      <td>NaN</td>\n",
              "      <td>NaN</td>\n",
              "      <td>NaN</td>\n",
              "      <td>NaN</td>\n",
              "      <td>NaN</td>\n",
              "      <td>NaN</td>\n",
              "      <td>NaN</td>\n",
              "      <td>NaN</td>\n",
              "      <td>NaN</td>\n",
              "      <td>NaN</td>\n",
              "      <td>NaN</td>\n",
              "      <td>NaN</td>\n",
              "      <td>NaN</td>\n",
              "      <td>NaN</td>\n",
              "      <td>NaN</td>\n",
              "      <td>NaN</td>\n",
              "      <td>NaN</td>\n",
              "      <td>NaN</td>\n",
              "      <td>NaN</td>\n",
              "      <td>NaN</td>\n",
              "      <td>NaN</td>\n",
              "      <td>NaN</td>\n",
              "      <td>NaN</td>\n",
              "      <td>NaN</td>\n",
              "      <td>NaN</td>\n",
              "      <td>NaN</td>\n",
              "      <td>NaN</td>\n",
              "      <td>NaN</td>\n",
              "    </tr>\n",
              "    <tr>\n",
              "      <th>44998</th>\n",
              "      <td>2018-03-30</td>\n",
              "      <td>10</td>\n",
              "      <td>50</td>\n",
              "      <td>NaN</td>\n",
              "      <td>44998.0</td>\n",
              "      <td>NaN</td>\n",
              "      <td>NaN</td>\n",
              "      <td>NaN</td>\n",
              "      <td>NaN</td>\n",
              "      <td>NaN</td>\n",
              "      <td>NaN</td>\n",
              "      <td>NaN</td>\n",
              "      <td>NaN</td>\n",
              "      <td>NaN</td>\n",
              "      <td>NaN</td>\n",
              "      <td>NaN</td>\n",
              "      <td>NaN</td>\n",
              "      <td>NaN</td>\n",
              "      <td>NaN</td>\n",
              "      <td>NaN</td>\n",
              "      <td>NaN</td>\n",
              "      <td>NaN</td>\n",
              "      <td>NaN</td>\n",
              "      <td>NaN</td>\n",
              "      <td>NaN</td>\n",
              "      <td>NaN</td>\n",
              "      <td>NaN</td>\n",
              "      <td>NaN</td>\n",
              "      <td>NaN</td>\n",
              "      <td>NaN</td>\n",
              "      <td>NaN</td>\n",
              "      <td>NaN</td>\n",
              "      <td>NaN</td>\n",
              "      <td>NaN</td>\n",
              "      <td>NaN</td>\n",
              "      <td>NaN</td>\n",
              "      <td>NaN</td>\n",
              "      <td>NaN</td>\n",
              "      <td>NaN</td>\n",
              "      <td>NaN</td>\n",
              "      <td>NaN</td>\n",
              "      <td>NaN</td>\n",
              "      <td>NaN</td>\n",
              "      <td>NaN</td>\n",
              "      <td>NaN</td>\n",
              "      <td>NaN</td>\n",
              "      <td>NaN</td>\n",
              "      <td>NaN</td>\n",
              "      <td>NaN</td>\n",
              "      <td>NaN</td>\n",
              "      <td>NaN</td>\n",
              "      <td>NaN</td>\n",
              "      <td>NaN</td>\n",
              "      <td>NaN</td>\n",
              "      <td>NaN</td>\n",
              "      <td>NaN</td>\n",
              "      <td>NaN</td>\n",
              "      <td>NaN</td>\n",
              "      <td>NaN</td>\n",
              "      <td>NaN</td>\n",
              "      <td>NaN</td>\n",
              "      <td>NaN</td>\n",
              "      <td>NaN</td>\n",
              "      <td>NaN</td>\n",
              "      <td>NaN</td>\n",
              "      <td>NaN</td>\n",
              "      <td>NaN</td>\n",
              "      <td>NaN</td>\n",
              "      <td>NaN</td>\n",
              "      <td>NaN</td>\n",
              "      <td>NaN</td>\n",
              "      <td>NaN</td>\n",
              "      <td>NaN</td>\n",
              "      <td>NaN</td>\n",
              "    </tr>\n",
              "    <tr>\n",
              "      <th>44999</th>\n",
              "      <td>2018-03-31</td>\n",
              "      <td>10</td>\n",
              "      <td>50</td>\n",
              "      <td>NaN</td>\n",
              "      <td>44999.0</td>\n",
              "      <td>NaN</td>\n",
              "      <td>NaN</td>\n",
              "      <td>NaN</td>\n",
              "      <td>NaN</td>\n",
              "      <td>NaN</td>\n",
              "      <td>NaN</td>\n",
              "      <td>NaN</td>\n",
              "      <td>NaN</td>\n",
              "      <td>NaN</td>\n",
              "      <td>NaN</td>\n",
              "      <td>NaN</td>\n",
              "      <td>NaN</td>\n",
              "      <td>NaN</td>\n",
              "      <td>NaN</td>\n",
              "      <td>NaN</td>\n",
              "      <td>NaN</td>\n",
              "      <td>NaN</td>\n",
              "      <td>NaN</td>\n",
              "      <td>NaN</td>\n",
              "      <td>NaN</td>\n",
              "      <td>NaN</td>\n",
              "      <td>NaN</td>\n",
              "      <td>NaN</td>\n",
              "      <td>NaN</td>\n",
              "      <td>NaN</td>\n",
              "      <td>NaN</td>\n",
              "      <td>NaN</td>\n",
              "      <td>NaN</td>\n",
              "      <td>NaN</td>\n",
              "      <td>NaN</td>\n",
              "      <td>NaN</td>\n",
              "      <td>NaN</td>\n",
              "      <td>NaN</td>\n",
              "      <td>NaN</td>\n",
              "      <td>NaN</td>\n",
              "      <td>NaN</td>\n",
              "      <td>NaN</td>\n",
              "      <td>NaN</td>\n",
              "      <td>NaN</td>\n",
              "      <td>NaN</td>\n",
              "      <td>NaN</td>\n",
              "      <td>NaN</td>\n",
              "      <td>NaN</td>\n",
              "      <td>NaN</td>\n",
              "      <td>NaN</td>\n",
              "      <td>NaN</td>\n",
              "      <td>NaN</td>\n",
              "      <td>NaN</td>\n",
              "      <td>NaN</td>\n",
              "      <td>NaN</td>\n",
              "      <td>NaN</td>\n",
              "      <td>NaN</td>\n",
              "      <td>NaN</td>\n",
              "      <td>NaN</td>\n",
              "      <td>NaN</td>\n",
              "      <td>NaN</td>\n",
              "      <td>NaN</td>\n",
              "      <td>NaN</td>\n",
              "      <td>NaN</td>\n",
              "      <td>NaN</td>\n",
              "      <td>NaN</td>\n",
              "      <td>NaN</td>\n",
              "      <td>NaN</td>\n",
              "      <td>NaN</td>\n",
              "      <td>NaN</td>\n",
              "      <td>NaN</td>\n",
              "      <td>NaN</td>\n",
              "      <td>NaN</td>\n",
              "      <td>NaN</td>\n",
              "    </tr>\n",
              "  </tbody>\n",
              "</table>\n",
              "</div>"
            ],
            "text/plain": [
              "            date  store  ...  sales_ewm_alpha_05_lag_546  sales_ewm_alpha_05_lag_728\n",
              "44995 2018-03-27     10  ...                         NaN                         NaN\n",
              "44996 2018-03-28     10  ...                         NaN                         NaN\n",
              "44997 2018-03-29     10  ...                         NaN                         NaN\n",
              "44998 2018-03-30     10  ...                         NaN                         NaN\n",
              "44999 2018-03-31     10  ...                         NaN                         NaN\n",
              "\n",
              "[5 rows x 74 columns]"
            ]
          },
          "metadata": {
            "tags": []
          },
          "execution_count": 97
        }
      ]
    },
    {
      "cell_type": "markdown",
      "metadata": {
        "id": "1SbMdhHouclW"
      },
      "source": [
        "### One Hot Encoding Some Features"
      ]
    },
    {
      "cell_type": "code",
      "metadata": {
        "id": "FKd2KnCsuclW"
      },
      "source": [
        "data= pd.get_dummies(data, columns=['item','store','month','day_of_week'])"
      ],
      "execution_count": null,
      "outputs": []
    },
    {
      "cell_type": "code",
      "metadata": {
        "id": "HuRySMAduclX",
        "colab": {
          "base_uri": "https://localhost:8080/"
        },
        "outputId": "09202428-8bf3-4b26-d5f2-d2fe91ea3b1b"
      },
      "source": [
        "# log tranformation of sales to reduce no.of iterations and there by computation time  \n",
        "data['sales']= np.log1p(data['sales'].values)\n",
        "data['sales'].head()"
      ],
      "execution_count": null,
      "outputs": [
        {
          "output_type": "execute_result",
          "data": {
            "text/plain": [
              "0    2.639057\n",
              "1    2.484907\n",
              "2    2.708050\n",
              "3    2.639057\n",
              "4    2.397895\n",
              "Name: sales, dtype: float64"
            ]
          },
          "metadata": {
            "tags": []
          },
          "execution_count": 53
        }
      ]
    },
    {
      "cell_type": "code",
      "metadata": {
        "id": "lqV_K1LmuclX"
      },
      "source": [
        ""
      ],
      "execution_count": null,
      "outputs": []
    },
    {
      "cell_type": "markdown",
      "metadata": {
        "id": "eLKSViskuclX"
      },
      "source": [
        "### Train - Validation Split"
      ]
    },
    {
      "cell_type": "code",
      "metadata": {
        "id": "VK7TG0qZuclX",
        "colab": {
          "base_uri": "https://localhost:8080/"
        },
        "outputId": "a0da0741-0635-44e1-9d6c-bbe15339a273"
      },
      "source": [
        "#training\n",
        "train = data.loc[(data[\"date\"] < \"2017-01-01\"), :]\n",
        "print(train['date'].min()), print(train['date'].max())"
      ],
      "execution_count": null,
      "outputs": [
        {
          "output_type": "stream",
          "text": [
            "2013-01-01 00:00:00\n",
            "2016-12-31 00:00:00\n"
          ],
          "name": "stdout"
        },
        {
          "output_type": "execute_result",
          "data": {
            "text/plain": [
              "(None, None)"
            ]
          },
          "metadata": {
            "tags": []
          },
          "execution_count": 54
        }
      ]
    },
    {
      "cell_type": "code",
      "metadata": {
        "id": "M6U2kWutuclY",
        "colab": {
          "base_uri": "https://localhost:8080/"
        },
        "outputId": "9ad98d7f-4807-4671-f2de-afe0696e0b1f"
      },
      "source": [
        "#validation\n",
        "val = data.loc[(data[\"date\"] >= \"2017-01-01\") & (data[\"date\"] < \"2017-04-01\"), :]\n",
        "print(val['date'].min()), print(val['date'].max())"
      ],
      "execution_count": null,
      "outputs": [
        {
          "output_type": "stream",
          "text": [
            "2017-01-01 00:00:00\n",
            "2017-03-31 00:00:00\n"
          ],
          "name": "stdout"
        },
        {
          "output_type": "execute_result",
          "data": {
            "text/plain": [
              "(None, None)"
            ]
          },
          "metadata": {
            "tags": []
          },
          "execution_count": 55
        }
      ]
    },
    {
      "cell_type": "markdown",
      "metadata": {
        "id": "n3Gj33bpuclY"
      },
      "source": [
        "### Custom Cost Function\n",
        "custom cost function which is based on SMAPE which reverses the log values and calculates the SMAPE."
      ]
    },
    {
      "cell_type": "code",
      "metadata": {
        "id": "pKPRP3oluclY"
      },
      "source": [
        "def smape(preds, target):\n",
        "    n = len(preds)\n",
        "    masked_arr = ~((preds == 0) & (target == 0))\n",
        "    preds, target = preds[masked_arr], target[masked_arr]\n",
        "    num = np.abs(preds-target)\n",
        "    denom = np.abs(preds)+np.abs(target)\n",
        "    smape_val = (200*np.sum(num/denom))/n\n",
        "    return smape_val\n",
        "\n",
        "def lgbm_smape(preds, train_data):\n",
        "    labels = train_data.get_label()\n",
        "    smape_val = smape(np.expm1(preds), np.expm1(labels))\n",
        "    return 'SMAPE', smape_val, False"
      ],
      "execution_count": null,
      "outputs": []
    },
    {
      "cell_type": "code",
      "metadata": {
        "id": "U4PF2TRouclY"
      },
      "source": [
        "cols = [col for col in train.columns if col not in ['date', 'id', \"sales\", \"year\"]]"
      ],
      "execution_count": null,
      "outputs": []
    },
    {
      "cell_type": "code",
      "metadata": {
        "id": "-8wgKXGAuclZ"
      },
      "source": [
        "X_train= train[cols]\n",
        "y_train= train['sales']\n",
        "X_val= val[cols]\n",
        "y_val= val['sales']"
      ],
      "execution_count": null,
      "outputs": []
    },
    {
      "cell_type": "markdown",
      "metadata": {
        "id": "rYZv-48vuclZ"
      },
      "source": [
        "## Building LGB MODEL"
      ]
    },
    {
      "cell_type": "code",
      "metadata": {
        "id": "zlh0VTs_uclZ"
      },
      "source": [
        "import lightgbm as lgb"
      ],
      "execution_count": null,
      "outputs": []
    },
    {
      "cell_type": "code",
      "metadata": {
        "id": "5bEWua_gucla"
      },
      "source": [
        "lgb_params = {'metric': {'mae'},\n",
        "              'num_leaves': 10,\n",
        "              'learning_rate': 0.02,\n",
        "              'feature_fraction': 0.8,\n",
        "              'max_depth': 5,\n",
        "              'verbose': 0,\n",
        "              'num_boost_round': 15000,\n",
        "              'early_stopping_rounds': 200,\n",
        "              'nthread': -1}"
      ],
      "execution_count": null,
      "outputs": []
    },
    {
      "cell_type": "code",
      "metadata": {
        "id": "eKL2z4S6A_KD"
      },
      "source": [
        "lgbtrain = lgb.Dataset(data=X_train, label=y_train, feature_name=cols)"
      ],
      "execution_count": null,
      "outputs": []
    },
    {
      "cell_type": "code",
      "metadata": {
        "id": "Ml1zsTj-BAus"
      },
      "source": [
        "lgbval = lgb.Dataset(data=X_val, label=y_val, reference=lgbtrain, feature_name=cols)"
      ],
      "execution_count": null,
      "outputs": []
    },
    {
      "cell_type": "code",
      "metadata": {
        "colab": {
          "base_uri": "https://localhost:8080/"
        },
        "id": "ZjpffX1fBF6L",
        "outputId": "6aee1e8b-0c74-4b32-a774-e25905b99312"
      },
      "source": [
        "model = lgb.train(lgb_params, lgbtrain,\n",
        "                  valid_sets=[lgbtrain, lgbval],\n",
        "                  num_boost_round=lgb_params['num_boost_round'],\n",
        "                  early_stopping_rounds=lgb_params['early_stopping_rounds'],\n",
        "                  feval=lgbm_smape,\n",
        "                  verbose_eval=200)"
      ],
      "execution_count": null,
      "outputs": [
        {
          "output_type": "stream",
          "text": [
            "Training until validation scores don't improve for 200 rounds.\n",
            "[200]\ttraining's l1: 0.160313\ttraining's SMAPE: 16.6128\tvalid_1's l1: 0.166433\tvalid_1's SMAPE: 17.2769\n",
            "[400]\ttraining's l1: 0.15493\ttraining's SMAPE: 16.0703\tvalid_1's l1: 0.162086\tvalid_1's SMAPE: 16.8396\n",
            "[600]\ttraining's l1: 0.152652\ttraining's SMAPE: 15.8398\tvalid_1's l1: 0.160039\tvalid_1's SMAPE: 16.6318\n",
            "[800]\ttraining's l1: 0.151124\ttraining's SMAPE: 15.6851\tvalid_1's l1: 0.158904\tvalid_1's SMAPE: 16.5165\n",
            "[1000]\ttraining's l1: 0.150024\ttraining's SMAPE: 15.5736\tvalid_1's l1: 0.158117\tvalid_1's SMAPE: 16.4368\n",
            "[1200]\ttraining's l1: 0.149193\ttraining's SMAPE: 15.4893\tvalid_1's l1: 0.157614\tvalid_1's SMAPE: 16.386\n",
            "[1400]\ttraining's l1: 0.14851\ttraining's SMAPE: 15.42\tvalid_1's l1: 0.157269\tvalid_1's SMAPE: 16.3512\n",
            "[1600]\ttraining's l1: 0.147918\ttraining's SMAPE: 15.3598\tvalid_1's l1: 0.156934\tvalid_1's SMAPE: 16.3173\n",
            "[1800]\ttraining's l1: 0.14739\ttraining's SMAPE: 15.306\tvalid_1's l1: 0.156775\tvalid_1's SMAPE: 16.3013\n",
            "[2000]\ttraining's l1: 0.146911\ttraining's SMAPE: 15.2571\tvalid_1's l1: 0.156562\tvalid_1's SMAPE: 16.2795\n",
            "[2200]\ttraining's l1: 0.146467\ttraining's SMAPE: 15.2118\tvalid_1's l1: 0.156373\tvalid_1's SMAPE: 16.2604\n",
            "[2400]\ttraining's l1: 0.146048\ttraining's SMAPE: 15.169\tvalid_1's l1: 0.156227\tvalid_1's SMAPE: 16.2457\n",
            "[2600]\ttraining's l1: 0.14564\ttraining's SMAPE: 15.1272\tvalid_1's l1: 0.15608\tvalid_1's SMAPE: 16.2308\n",
            "[2800]\ttraining's l1: 0.145248\ttraining's SMAPE: 15.0871\tvalid_1's l1: 0.156043\tvalid_1's SMAPE: 16.2273\n",
            "[3000]\ttraining's l1: 0.14486\ttraining's SMAPE: 15.0474\tvalid_1's l1: 0.155971\tvalid_1's SMAPE: 16.2202\n",
            "[3200]\ttraining's l1: 0.144482\ttraining's SMAPE: 15.0086\tvalid_1's l1: 0.155944\tvalid_1's SMAPE: 16.2175\n",
            "[3400]\ttraining's l1: 0.14412\ttraining's SMAPE: 14.9714\tvalid_1's l1: 0.155917\tvalid_1's SMAPE: 16.2149\n",
            "[3600]\ttraining's l1: 0.143779\ttraining's SMAPE: 14.9365\tvalid_1's l1: 0.155886\tvalid_1's SMAPE: 16.2121\n",
            "[3800]\ttraining's l1: 0.14343\ttraining's SMAPE: 14.9007\tvalid_1's l1: 0.155799\tvalid_1's SMAPE: 16.2033\n",
            "[4000]\ttraining's l1: 0.143092\ttraining's SMAPE: 14.8661\tvalid_1's l1: 0.155768\tvalid_1's SMAPE: 16.2002\n",
            "[4200]\ttraining's l1: 0.142764\ttraining's SMAPE: 14.8323\tvalid_1's l1: 0.155734\tvalid_1's SMAPE: 16.1967\n",
            "[4400]\ttraining's l1: 0.142431\ttraining's SMAPE: 14.7981\tvalid_1's l1: 0.155743\tvalid_1's SMAPE: 16.1978\n",
            "Early stopping, best iteration is:\n",
            "[4243]\ttraining's l1: 0.142693\ttraining's SMAPE: 14.825\tvalid_1's l1: 0.155721\tvalid_1's SMAPE: 16.1954\n"
          ],
          "name": "stdout"
        }
      ]
    },
    {
      "cell_type": "code",
      "metadata": {
        "colab": {
          "base_uri": "https://localhost:8080/"
        },
        "id": "GAQ0dYMFHsGE",
        "outputId": "9d6994d6-a299-4ad3-d08f-33f439811b2d"
      },
      "source": [
        "y_pred_val= model.predict(X_val)\n",
        "y_pred_val"
      ],
      "execution_count": null,
      "outputs": [
        {
          "output_type": "execute_result",
          "data": {
            "text/plain": [
              "array([3.02621962, 2.57991177, 2.72727396, ..., 4.15314862, 4.22172385,\n",
              "       4.31536991])"
            ]
          },
          "metadata": {
            "tags": []
          },
          "execution_count": 64
        }
      ]
    },
    {
      "cell_type": "code",
      "metadata": {
        "colab": {
          "base_uri": "https://localhost:8080/"
        },
        "id": "9ipKvW8rK9eS",
        "outputId": "53054cdb-607e-4e8e-9436-e8f478af2b6a"
      },
      "source": [
        "smape(np.expm1(y_pred_val), np.expm1(y_val))"
      ],
      "execution_count": null,
      "outputs": [
        {
          "output_type": "execute_result",
          "data": {
            "text/plain": [
              "16.19536171725934"
            ]
          },
          "metadata": {
            "tags": []
          },
          "execution_count": 65
        }
      ]
    },
    {
      "cell_type": "code",
      "metadata": {
        "colab": {
          "base_uri": "https://localhost:8080/"
        },
        "id": "M2YFitnjLgs5",
        "outputId": "76d0aa6d-5d8b-48e9-b360-520f35fe228a"
      },
      "source": [
        "model.best_iteration"
      ],
      "execution_count": null,
      "outputs": [
        {
          "output_type": "execute_result",
          "data": {
            "text/plain": [
              "4243"
            ]
          },
          "metadata": {
            "tags": []
          },
          "execution_count": 66
        }
      ]
    },
    {
      "cell_type": "code",
      "metadata": {
        "colab": {
          "base_uri": "https://localhost:8080/"
        },
        "id": "q1d22A72MUcc",
        "outputId": "54f5073d-a104-4bb8-ac10-8afac5627943"
      },
      "source": [
        "model.best_score"
      ],
      "execution_count": null,
      "outputs": [
        {
          "output_type": "execute_result",
          "data": {
            "text/plain": [
              "defaultdict(dict,\n",
              "            {'training': {'SMAPE': 14.825027929665477,\n",
              "              'l1': 0.14269275288811825},\n",
              "             'valid_1': {'SMAPE': 16.19536171725934,\n",
              "              'l1': 0.15572117089964624}})"
            ]
          },
          "metadata": {
            "tags": []
          },
          "execution_count": 67
        }
      ]
    },
    {
      "cell_type": "markdown",
      "metadata": {
        "id": "jljZjJewNjCF"
      },
      "source": [
        "**Feature Importance**"
      ]
    },
    {
      "cell_type": "code",
      "metadata": {
        "colab": {
          "base_uri": "https://localhost:8080/",
          "height": 621
        },
        "id": "3rA5cqoFNemP",
        "outputId": "225e686e-2180-4ceb-94a0-840ec71bf327"
      },
      "source": [
        "# this one is the built-in plot function of LightGBM library\n",
        "\n",
        "lgb.plot_importance(model, max_num_features=20, figsize=(16, 10), importance_type=\"gain\")\n",
        "plt.show()"
      ],
      "execution_count": null,
      "outputs": [
        {
          "output_type": "display_data",
          "data": {
            "image/png": "[encoded data removed]",
            "text/plain": [
              "<Figure size 1152x720 with 1 Axes>"
            ]
          },
          "metadata": {
            "tags": [],
            "needs_background": "light"
          }
        }
      ]
    },
    {
      "cell_type": "code",
      "metadata": {
        "colab": {
          "base_uri": "https://localhost:8080/"
        },
        "id": "NtSAl7GcMXeY",
        "outputId": "378c9495-0dfa-408f-bc4d-6854cdd24ceb"
      },
      "source": [
        "y_pred_val= np.expm1(y_pred_val)\n",
        "y_pred_val"
      ],
      "execution_count": null,
      "outputs": [
        {
          "output_type": "execute_result",
          "data": {
            "text/plain": [
              "array([19.61913685, 12.19597386, 14.29114585, ..., 62.63404474,\n",
              "       67.15086479, 73.84130284])"
            ]
          },
          "metadata": {
            "tags": []
          },
          "execution_count": 69
        }
      ]
    },
    {
      "cell_type": "code",
      "metadata": {
        "colab": {
          "base_uri": "https://localhost:8080/"
        },
        "id": "pqunLkz8MhkX",
        "outputId": "c656d74b-d9aa-4ad0-fb28-d806233a87d1"
      },
      "source": [
        "y_val= np.expm1(y_val)\n",
        "y_val"
      ],
      "execution_count": null,
      "outputs": [
        {
          "output_type": "execute_result",
          "data": {
            "text/plain": [
              "1461      19.0\n",
              "1462      15.0\n",
              "1463      10.0\n",
              "1464      16.0\n",
              "1465      14.0\n",
              "          ... \n",
              "109280    55.0\n",
              "109281    72.0\n",
              "109282    69.0\n",
              "109283    80.0\n",
              "109284    68.0\n",
              "Name: sales, Length: 5670, dtype: float64"
            ]
          },
          "metadata": {
            "tags": []
          },
          "execution_count": 70
        }
      ]
    },
    {
      "cell_type": "code",
      "metadata": {
        "colab": {
          "base_uri": "https://localhost:8080/"
        },
        "id": "fUzCjx67M3eb",
        "outputId": "5cc9914e-d201-476a-cb39-63909629c679"
      },
      "source": [
        "y_val"
      ],
      "execution_count": null,
      "outputs": [
        {
          "output_type": "execute_result",
          "data": {
            "text/plain": [
              "1461      19.0\n",
              "1462      15.0\n",
              "1463      10.0\n",
              "1464      16.0\n",
              "1465      14.0\n",
              "          ... \n",
              "109280    55.0\n",
              "109281    72.0\n",
              "109282    69.0\n",
              "109283    80.0\n",
              "109284    68.0\n",
              "Name: sales, Length: 5670, dtype: float64"
            ]
          },
          "metadata": {
            "tags": []
          },
          "execution_count": 71
        }
      ]
    },
    {
      "cell_type": "code",
      "metadata": {
        "id": "O5mlcRdhPPlE"
      },
      "source": [
        ""
      ],
      "execution_count": null,
      "outputs": []
    }
  ]
}